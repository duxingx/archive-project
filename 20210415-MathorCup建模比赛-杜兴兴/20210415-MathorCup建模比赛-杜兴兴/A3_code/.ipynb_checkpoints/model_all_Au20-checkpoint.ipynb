{
 "cells": [
  {
   "cell_type": "code",
   "execution_count": 1,
   "metadata": {
    "ExecuteTime": {
     "end_time": "2021-04-16T15:05:31.873064Z",
     "start_time": "2021-04-16T15:05:30.635045Z"
    }
   },
   "outputs": [],
   "source": [
    "import os\n",
    "import numpy as np\n",
    "import pandas as pd\n",
    "import networkx as nx\n",
    "from sklearn.model_selection import train_test_split\n",
    "from scipy.spatial.distance import cdist\n",
    "from sklearn.feature_selection import SelectPercentile\n",
    "from sklearn.linear_model import LinearRegression,Ridge,Lasso\n",
    "from sklearn.ensemble import AdaBoostRegressor,ExtraTreesRegressor,RandomForestRegressor,GradientBoostingRegressor\n",
    "from sklearn.neighbors import KNeighborsRegressor\n",
    "from sklearn.neural_network import MLPRegressor\n",
    "from sklearn import preprocessing\n",
    "from sklearn.metrics import mean_squared_error"
   ]
  },
  {
   "cell_type": "code",
   "execution_count": 2,
   "metadata": {
    "ExecuteTime": {
     "end_time": "2021-04-16T15:05:57.533831Z",
     "start_time": "2021-04-16T15:05:50.561444Z"
    }
   },
   "outputs": [],
   "source": [
    "\n",
    "path = \"../A2_data/A1_rawdata/B45-_OPT_3751/\"\n",
    "files = os.listdir(path)  ##得到文件夹下的所有文件名称\n",
    "samples = []\n",
    "columns_list = ['num','energy']\n",
    "for i in range(1,46):\n",
    "    columns_list.append('x{}'.format(i))\n",
    "    columns_list.append('y{}'.format(i))\n",
    "    columns_list.append('z{}'.format(i))\n",
    "\n",
    "for f_num in range(len(files)):  ##遍历文件夹\n",
    "    file = files[f_num]\n",
    "    domain = os.path.abspath(path)\n",
    "    file = os.path.join(domain, file)\n",
    "    fn = open(str(file))\n",
    "    f = fn.readlines()\n",
    "    xyz_list = []\n",
    "    for l in range(len(f)):\n",
    "        if l == 0:\n",
    "            num = int(f[l])\n",
    "            xyz_list.append(num)\n",
    "        elif l == 1:\n",
    "            # energy = float(f[l])\n",
    "            line = f[l].split('\\t')\n",
    "            line_ = line[-1]\n",
    "            str_ = line_.split(':')\n",
    "            energy = str_[-1]\n",
    "            xyz_list.append(energy)\n",
    "        else:\n",
    "            xyz = f[l].split()\n",
    "            xyz_list.append(float(xyz[1]))\n",
    "            xyz_list.append(float(xyz[2]))\n",
    "            xyz_list.append(float(xyz[3]))\n",
    "    samples.append(xyz_list)\n",
    "df = pd.DataFrame(samples,columns=columns_list)\n",
    "df.to_excel('../A2_data/A2_output/MathorCup高校数学建模挑战赛.xlsx',sheet_name='A',na_rep='NAN')\n"
   ]
  },
  {
   "cell_type": "code",
   "execution_count": 4,
   "metadata": {
    "ExecuteTime": {
     "end_time": "2021-04-16T15:09:16.818281Z",
     "start_time": "2021-04-16T15:09:12.968946Z"
    }
   },
   "outputs": [],
   "source": [
    "\n",
    "path = r'../A2_data/A2_output/MathorCup高校数学建模挑战赛.xlsx'\n",
    "df = pd.read_excel(path,sheet_name='A')\n",
    "X,y = df.iloc[:,3:],df.iloc[:,2]\n",
    "X,y = X.values,y.values    # X特征参数、y能量标签属性\n",
    "\n",
    "def xyz(n):\n",
    "    \"\"\"xyz[]:第n个样本原子的坐标值\"\"\"\n",
    "    xyz = []\n",
    "    for i in range(20):\n",
    "        xyz.append([X[n,0 + 3 * i], X[n,1 + 3 * i], X[n,2 + 3 * i]])\n",
    "    return xyz\n",
    "\n",
    "def distmatrix(xyz):\n",
    "    \"\"\"计算单个团簇样本的距离矩阵\"\"\"\n",
    "    dist=cdist(xyz,xyz,metric='euclidean')\n",
    "    return dist\n",
    "\n",
    "def kulun(Z,sample):\n",
    "    \"\"\"采用库伦矩阵对单个团簇样本的坐标降维：c = N*N\n",
    "    Z：原子序号\"\"\"\n",
    "    c = np.zeros((20,20))\n",
    "    for i in range(20):\n",
    "        for j in range(20):\n",
    "            if i == j:\n",
    "                c[i,j] = 0.5*(Z**2.4)\n",
    "            else:\n",
    "                c[i,j] = (Z**2)/np.linalg.norm(np.asarray(sample[i])-np.asarray(sample[j]))\n",
    "    return c\n",
    "\n",
    "def eig_(maxtri):\n",
    "    \"\"\"计算矩阵的特征值和特征向量\"\"\"\n",
    "    return np.linalg.eig(maxtri)\n",
    "\n",
    "\"\"\"生成衍生特征\"\"\"\n",
    "def dict_index(dist):\n",
    "    \"\"\"距离矩阵相关指标：最大距离，最小距离，平均距离，平均距离，中位数距离\"\"\"\n",
    "    mindist, maxdist, sumdist, meandist, meddist = [], [], [], [], []\n",
    "    for i in range(dist.shape[0]):\n",
    "        temp = []\n",
    "        for j in range(dist.shape[1]):\n",
    "            if j == i:\n",
    "                continue\n",
    "            temp.append(dist[i, j])\n",
    "        mindist = min(temp)\n",
    "        maxdist = max(temp)\n",
    "        meandist = np.mean(temp)\n",
    "        meddist = np.median(temp)\n",
    "        sumdist = sum(temp)\n",
    "    return mindist, maxdist, meandist, meddist, sumdist\n",
    "\n",
    "def close_matrix(dist, index):\n",
    "    \"\"\"根据距离矩阵得到邻接矩阵\"\"\"\n",
    "    matrix = np.where(dist > index, 1, 0)\n",
    "    return matrix\n",
    "\n",
    "def netgraph_index(matrix):\n",
    "    \"\"\"网络图结构指标分析 \"\"\"\n",
    "    G = nx.Graph(matrix)\n",
    "    Gnum = G.number_of_edges()\n",
    "    mean_cluster = nx.average_clustering(G)  # 平均聚类系数\n",
    "    netrans = nx.transitivity(G)  # 网络传递性\n",
    "    mean_degrcenter = np.average(list(nx.degree_centrality(G).values()))  # 平均度中心性\n",
    "    mean_closcenter = np.average(list(nx.closeness_centrality(G).values()))  # 平均接近中心性\n",
    "    mean_betwcenter = np.average(list(nx.betweenness_centrality(G).values()))  # 平均中介中心性\n",
    "    return Gnum, mean_cluster, netrans, mean_degrcenter, mean_closcenter, mean_betwcenter\n",
    "\n",
    "r_cut = 0.6\n",
    "yita = 1\n",
    "r_s = 3\n",
    "def f_c(r_ij):\n",
    "    \"\"\"分子性质衍生特征的切断函数f_c\"\"\"\n",
    "    if r_cut > r_ij:\n",
    "        f = (np.cos(np.pi*r_ij/r_cut)+1)/2\n",
    "    else:\n",
    "        f = 0\n",
    "    return f\n",
    "\n",
    "def feature_vector():\n",
    "    \"\"\"特征向量的预处理\"\"\"\n",
    "    data = []\n",
    "    for i in range(len(y)):\n",
    "        \"\"\"库伦矩阵降维\"\"\"\n",
    "        sample = xyz(i)\n",
    "        c = kulun(79, sample)\n",
    "        a, b = eig_(c)  # a为特征值、b为特征向量\n",
    "        a = list(a)\n",
    "        \"\"\"距离衍生特征\"\"\"\n",
    "        dist = distmatrix(sample)  # 距离矩阵\n",
    "        mindist, maxdist, meandist, meddist, sumdist = dict_index(dist)  # 距离指标\n",
    "        a = a + [mindist, maxdist, meandist, meddist, sumdist]\n",
    "        \"\"\"复杂网络衍生特征\"\"\"\n",
    "        closematrix = np.where(dist > meandist, 1, 0)  # 计算邻接矩阵\n",
    "        Gnum, mean_cluster, netrans, mean_degrcenter, mean_closcenter, mean_betwcenter = netgraph_index(closematrix)  # 网络结构指标\n",
    "        a = a + [Gnum, mean_cluster, netrans, mean_degrcenter, mean_closcenter, mean_betwcenter]\n",
    "        # \"\"\"分子性质衍生特征\"\"\"\n",
    "        # a.append(np.average([np.exp(-yita*(np.linalg.norm(np.asarray(sample[j]) - np.asarray(sample[k])-r_s)**2))*\n",
    "        #                      f_c(np.linalg.norm(np.asarray(sample[j]) - np.asarray(sample[k])))\n",
    "        #                      for j in range(20) for k in range(20)]))   # 函数G2\n",
    "        # a.append(np.average([f_c(np.linalg.norm(np.asarray(sample[j]) - np.asarray(sample[k])))\n",
    "        #                      for j in range(20) for k in range(20)]))   # 函数G1\n",
    "        data.append(list(a))\n",
    "    data = np.array(data,dtype=float)\n",
    "    return data\n"
   ]
  },
  {
   "cell_type": "code",
   "execution_count": 5,
   "metadata": {
    "ExecuteTime": {
     "end_time": "2021-04-16T15:14:17.269836Z",
     "start_time": "2021-04-16T15:13:51.892136Z"
    }
   },
   "outputs": [],
   "source": [
    "data = feature_vector()   # 特征向量\n",
    "X_train,X_test,y_train,y_test = train_test_split(data,y,random_state=42)\n",
    "\n",
    "\"\"\"提取特征值\"\"\"\n",
    "select = SelectPercentile(percentile=100)   # 百分比\n",
    "select.fit(X_train,y_train)\n",
    "X_train_selected = select.transform(X_train)\n",
    "X_test_selected = select.transform(X_test)"
   ]
  },
  {
   "cell_type": "code",
   "execution_count": 7,
   "metadata": {
    "ExecuteTime": {
     "end_time": "2021-04-16T15:14:31.566994Z",
     "start_time": "2021-04-16T15:14:31.543044Z"
    }
   },
   "outputs": [
    {
     "name": "stdout",
     "output_type": "stream",
     "text": [
      "lr.coef_:[ 1.66772584e+11  1.66772584e+11  1.66772584e+11  1.66772584e+11\n",
      "  1.66772584e+11  1.66772584e+11  1.66772584e+11  1.66772584e+11\n",
      "  1.66772584e+11  1.66772584e+11  1.66772584e+11  1.66772584e+11\n",
      "  1.66772584e+11  1.66772584e+11  1.66772584e+11  1.66772584e+11\n",
      "  1.66772584e+11  1.66772584e+11  1.66772584e+11  1.66772584e+11\n",
      " -6.22987005e+03 -1.51036991e+02  1.97922012e+00 -1.28112972e+02\n",
      "  3.76052076e+01 -1.25894227e+02  2.29044522e+03 -1.89229081e+03\n",
      " -6.62601236e-01  1.97913882e+04 -9.01794769e+04]\n",
      "lr.intercept_:-5.976262671927529e+16\n",
      "Training set score of lr:0.31\n",
      "Test set score of lr:-0.98\n"
     ]
    }
   ],
   "source": [
    "\n",
    "\"\"\"线性回归\"\"\"\n",
    "lr = LinearRegression().fit(X_train_selected,y_train)\n",
    "print('lr.coef_:{}'.format(lr.coef_))\n",
    "print('lr.intercept_:{}'.format(lr.intercept_))\n",
    "print('Training set score of lr:{:.2f}'.format(lr.score(X_train_selected,y_train)))\n",
    "print('Test set score of lr:{:.2f}'.format(lr.score(X_test_selected,y_test)))"
   ]
  },
  {
   "cell_type": "code",
   "execution_count": 8,
   "metadata": {
    "ExecuteTime": {
     "end_time": "2021-04-16T15:15:04.252339Z",
     "start_time": "2021-04-16T15:15:04.226339Z"
    }
   },
   "outputs": [
    {
     "name": "stdout",
     "output_type": "stream",
     "text": [
      "ridge.coef_:[-3.18045394e-01 -1.38916383e-01 -1.97270882e-01 -6.87080128e-01\n",
      "  1.58135183e+00 -5.89136155e-01 -3.13425314e-01  2.17590106e-01\n",
      "  3.23114859e-02  7.84237863e-02  5.51756045e-02  4.88562935e-02\n",
      "  5.37680072e-02 -1.03069793e-01 -1.69642638e-01 -9.58143038e-02\n",
      "  2.95514362e-01  4.71791889e-01  4.04119767e-01 -6.26501371e-01\n",
      " -5.91706288e+02  1.19164631e+02  5.92568880e-01  2.73075464e+01\n",
      "  1.12588087e+01 -2.07978056e-01  3.52783088e+02  8.77202039e+01\n",
      " -1.09462135e-03  9.11128198e+01 -1.02518433e+01]\n",
      "ridge.intercept_:-100546.81417430879\n",
      "Training set score of ridge:0.29\n",
      "Test set score of ridge:-1.99\n"
     ]
    }
   ],
   "source": [
    "\n",
    "\"\"\"岭回归\"\"\"\n",
    "ridge = Ridge(alpha=10).fit(X_train_selected,y_train)\n",
    "print('ridge.coef_:{}'.format(ridge.coef_))\n",
    "print('ridge.intercept_:{}'.format(ridge.intercept_))\n",
    "print('Training set score of ridge:{:.2f}'.format(ridge.score(X_train_selected,y_train)))\n",
    "print('Test set score of ridge:{:.2f}'.format(ridge.score(X_test_selected,y_test)))"
   ]
  },
  {
   "cell_type": "code",
   "execution_count": 9,
   "metadata": {
    "ExecuteTime": {
     "end_time": "2021-04-16T15:15:09.434878Z",
     "start_time": "2021-04-16T15:15:09.361115Z"
    }
   },
   "outputs": [
    {
     "name": "stdout",
     "output_type": "stream",
     "text": [
      "Training set score of lasso:0.30\n",
      "Test set score of lasso:-1.52\n",
      "Training set MSE of lasso:872640.59\n",
      "Test set MSE of lasso:2835869.16\n"
     ]
    },
    {
     "name": "stderr",
     "output_type": "stream",
     "text": [
      "D:\\Program Files\\Anaconda3\\lib\\site-packages\\sklearn\\linear_model\\_coordinate_descent.py:529: ConvergenceWarning: Objective did not converge. You might want to increase the number of iterations. Duality gap: 923253658.3875091, tolerance: 350545.8131563909\n",
      "  model = cd_fast.enet_coordinate_descent(\n"
     ]
    }
   ],
   "source": [
    "\"\"\"Lasso回归\"\"\"\n",
    "lasso = Lasso().fit(X_train_selected,y_train)\n",
    "print('Training set score of lasso:{:.2f}'.format(lasso.score(X_train_selected,y_train)))\n",
    "print('Test set score of lasso:{:.2f}'.format(lasso.score(X_test_selected,y_test)))\n",
    "print(\"Training set MSE of lasso:{:.2f}\".format(mean_squared_error(y_train,lasso.predict(X_train_selected))))\n",
    "print(\"Test set MSE of lasso:{:.2f}\".format(mean_squared_error(y_test,lasso.predict(X_test_selected))))"
   ]
  },
  {
   "cell_type": "code",
   "execution_count": 10,
   "metadata": {
    "ExecuteTime": {
     "end_time": "2021-04-16T15:15:21.918769Z",
     "start_time": "2021-04-16T15:15:17.946239Z"
    }
   },
   "outputs": [
    {
     "name": "stdout",
     "output_type": "stream",
     "text": [
      "Training set score:0.88\n",
      "Test set score:0.08\n",
      "Training set MSE:147637.00\n",
      "Test set MSE:1035779.52\n"
     ]
    }
   ],
   "source": [
    "\n",
    "\"\"\"随机森林\"\"\"\n",
    "rf = RandomForestRegressor().fit(X_train,y_train)\n",
    "print('Training set score:{:.2f}'.format(rf.score(X_train,y_train)))\n",
    "print('Test set score:{:.2f}'.format(rf.score(X_test,y_test)))\n",
    "print(\"Training set MSE:{:.2f}\".format(mean_squared_error(y_train,rf.predict(X_train))))\n",
    "print(\"Test set MSE:{:.2f}\".format(mean_squared_error(y_test,rf.predict(X_test))))"
   ]
  },
  {
   "cell_type": "code",
   "execution_count": null,
   "metadata": {},
   "outputs": [],
   "source": []
  }
 ],
 "metadata": {
  "kernelspec": {
   "display_name": "Python 3",
   "language": "python",
   "name": "python3"
  },
  "language_info": {
   "codemirror_mode": {
    "name": "ipython",
    "version": 3
   },
   "file_extension": ".py",
   "mimetype": "text/x-python",
   "name": "python",
   "nbconvert_exporter": "python",
   "pygments_lexer": "ipython3",
   "version": "3.8.5"
  },
  "latex_envs": {
   "LaTeX_envs_menu_present": true,
   "autoclose": false,
   "autocomplete": true,
   "bibliofile": "biblio.bib",
   "cite_by": "apalike",
   "current_citInitial": 1,
   "eqLabelWithNumbers": true,
   "eqNumInitial": 1,
   "hotkeys": {
    "equation": "Ctrl-E",
    "itemize": "Ctrl-I"
   },
   "labels_anchors": false,
   "latex_user_defs": false,
   "report_style_numbering": false,
   "user_envs_cfg": false
  },
  "toc": {
   "base_numbering": 1,
   "nav_menu": {},
   "number_sections": true,
   "sideBar": true,
   "skip_h1_title": false,
   "title_cell": "Table of Contents",
   "title_sidebar": "Contents",
   "toc_cell": false,
   "toc_position": {},
   "toc_section_display": true,
   "toc_window_display": false
  }
 },
 "nbformat": 4,
 "nbformat_minor": 4
}
