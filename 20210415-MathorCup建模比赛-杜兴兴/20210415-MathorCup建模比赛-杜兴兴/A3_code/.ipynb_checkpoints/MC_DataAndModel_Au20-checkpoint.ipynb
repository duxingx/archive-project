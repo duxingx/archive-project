{
 "cells": [
  {
   "cell_type": "code",
   "execution_count": 1,
   "metadata": {
    "ExecuteTime": {
     "end_time": "2021-04-17T04:25:47.277214Z",
     "start_time": "2021-04-17T04:25:45.425296Z"
    }
   },
   "outputs": [],
   "source": [
    "import numpy as np\n",
    "import pandas as pd\n",
    "import matplotlib.pyplot as plt\n",
    "import seaborn as sns\n",
    "from mpl_toolkits.mplot3d import Axes3D\n",
    "from scipy.spatial.distance import cdist\n",
    "import networkx as nx\n",
    "import warnings\n",
    "warnings.filterwarnings(\"ignore\")\n",
    "plt.rcParams['font.sans-serif'] = ['SimHei'] \n",
    "plt.rcParams['axes.unicode_minus'] = False  \n",
    "\n",
    "\n",
    "import os\n",
    "import re\n",
    "import math\n",
    "\n",
    "from sklearn.linear_model import LinearRegression,Ridge,Lasso\n",
    "from sklearn.neighbors import KNeighborsRegressor\n",
    "from sklearn.svm import SVR,LinearSVR\n",
    "from sklearn.ensemble import AdaBoostRegressor,ExtraTreesRegressor,RandomForestRegressor,GradientBoostingRegressor\n",
    "from xgboost import XGBRegressor\n",
    "\n",
    "\n",
    "from sklearn.model_selection import train_test_split,cross_val_score,cross_val_predict # 交叉验证所需的函数\n",
    "from sklearn.model_selection import KFold,LeaveOneOut,LeavePOut,ShuffleSplit # 交叉验证所需的子集划分方法\n",
    "from sklearn.model_selection import StratifiedKFold,StratifiedShuffleSplit # 分层分割\n",
    "from sklearn.model_selection import GroupKFold,LeaveOneGroupOut,LeavePGroupsOut,GroupShuffleSplit # 分组分割\n",
    "\n",
    "\n",
    "\n",
    "from sklearn.model_selection import train_test_split,GridSearchCV\n",
    "from sklearn import preprocessing\n",
    "from sklearn.metrics import accuracy_score,mean_squared_error,mean_absolute_error\n",
    "from sklearn.decomposition import PCA\n",
    "from sklearn.preprocessing import PolynomialFeatures"
   ]
  },
  {
   "cell_type": "code",
   "execution_count": 2,
   "metadata": {
    "ExecuteTime": {
     "end_time": "2021-04-17T04:25:53.838501Z",
     "start_time": "2021-04-17T04:25:53.819601Z"
    },
    "code_folding": []
   },
   "outputs": [],
   "source": [
    "path = \"../A2_data/A1_rawdata/Au20_OPT_1000/\"\n",
    "# path = \"../A2_data/A1_rawdata/B45-_OPT_3751/\"\n",
    "\n",
    "# 读取文件名\n",
    "def get_allfile(path):\n",
    "    filelist = []\n",
    "    get_dir = os.listdir(path)\n",
    "    for i in get_dir:\n",
    "        filelist.append(os.path.join(path,i))\n",
    "    \n",
    "    return filelist\n",
    "\n",
    "# 测试\n",
    "filelist = get_allfile(path)\n",
    "# filelist"
   ]
  },
  {
   "cell_type": "code",
   "execution_count": 3,
   "metadata": {
    "ExecuteTime": {
     "end_time": "2021-04-17T04:26:03.734811Z",
     "start_time": "2021-04-17T04:26:03.711655Z"
    },
    "code_folding": []
   },
   "outputs": [
    {
     "data": {
      "text/plain": [
       "array(-1549.729217)"
      ]
     },
     "execution_count": 3,
     "metadata": {},
     "output_type": "execute_result"
    }
   ],
   "source": [
    "\n",
    "# 读取团簇数据\n",
    "def read_one_xyz(filename):\n",
    "    xyz = []\n",
    "    with open(filename, 'r') as f: # 读取每一行\n",
    "        flines = f.readlines()\n",
    "        for fl in range(len(flines)):\n",
    "            if fl == 0: # 第一行为原子个数\n",
    "                num = flines[fl]\n",
    "            elif fl == 1: # 第二行为能量\n",
    "                power = np.array(re.findall(r\"[-]?\\d+\\.?\\d*\",str(flines[fl]))[-1]).astype(float)\n",
    "            else: # 其余行为坐标点\n",
    "                xyz.append(flines[fl].split())\n",
    "                \n",
    "    axis_xyz = []  \n",
    "    for i in xyz[1:]: # 划分坐标点为 x,y,z\n",
    "        axis_xyz.append(i[1:4])\n",
    "    axis_xyz_num = np.array(axis_xyz).astype(float)\n",
    "    \n",
    "    return axis_xyz_num,power\n",
    "\n",
    "# 测试\n",
    "xyz,power = read_one_xyz(\"../A2_data/A1_rawdata/Au20_OPT_1000/2.xyz\")\n",
    "# xyz,power = read_one_xyz(\"../A2_data/A1_rawdata/B45-_OPT_3751/2.xyz\")\n",
    "power\n",
    "# xyz"
   ]
  },
  {
   "cell_type": "code",
   "execution_count": 4,
   "metadata": {
    "ExecuteTime": {
     "end_time": "2021-04-17T04:26:06.557476Z",
     "start_time": "2021-04-17T04:26:06.517216Z"
    },
    "code_folding": [
     2,
     12,
     36,
     45,
     61,
     70,
     98
    ]
   },
   "outputs": [],
   "source": [
    "# 生成衍生变量\n",
    "\n",
    "def distmatrix(xyz_matrix):\n",
    "    \"\"\"计算原子距离矩阵\"\"\"\n",
    "    dist=cdist(xyz_matrix,xyz_matrix,metric='euclidean')\n",
    "    return dist\n",
    "dist = distmatrix(xyz) # 测试\n",
    "\n",
    "\n",
    "def dict_index(distmatrix):\n",
    "    \"\"\"\n",
    "    距离矩阵相关指标：最大距离，最小距离，平均距离，平均距离，中位数距离\n",
    "    \"\"\"\n",
    "    temp = []\n",
    "    \n",
    "    for i in range(distmatrix.shape[0]): # 遍历距离矩阵所有行\n",
    "        \n",
    "        for j in range(distmatrix.shape[1]): # 遍历距离矩阵所有列\n",
    "            if j >= i: # 不考虑原子与自身的距离\n",
    "                continue\n",
    "            temp.append(distmatrix[i,j]) # 将每个距离添加到列表，便于计算统计指标\n",
    "    mindist = min(temp)\n",
    "    maxdist = max(temp)\n",
    "    meandist = np.mean(temp)\n",
    "    meddist = np.median(temp)\n",
    "    sumdist = sum(temp)\n",
    "    return mindist,maxdist,meandist,meddist,sumdist\n",
    "mindist,maxdist,meandist,meddist,sumdist = dict_index(dist) # 测试\n",
    "\n",
    "\n",
    "def close_matrix(dist,index):\n",
    "    \"\"\"\n",
    "    根据距离矩阵得到邻接矩阵\n",
    "    \"\"\"\n",
    "    matrix = np.where(dist>index,1,0)    # 根据距离与index的相对来判断是否原子之间有边\n",
    "    return matrix\n",
    "\n",
    "\n",
    "def netgraph_index(matrix):\n",
    "    \"\"\"\n",
    "    网络图结构指标分析\n",
    "    \"\"\"\n",
    "    G = nx.Graph(matrix)  # 根据邻接矩阵构建网络结构\n",
    "    \n",
    "    Gnum =  G.number_of_edges()   # 网络边的数量\n",
    "    mean_cluster = nx.average_clustering(G) # 平均聚类系数\n",
    "    netrans = nx.transitivity(G) # 网络传递性\n",
    "    mean_degrcenter = np.average(list(nx.degree_centrality(G).values())) # 平均度中心性\n",
    "    mean_closcenter = np.average(list(nx.closeness_centrality(G).values())) # 平均接近中心性\n",
    "    mean_betwcenter = np.average(list(nx.betweenness_centrality(G).values())) # 平均中介中心性\n",
    "    \n",
    "    return Gnum,mean_cluster,netrans,mean_degrcenter,mean_closcenter,mean_betwcenter\n",
    "\n",
    "\n",
    "def f_c(r_ij,r_cut=6):\n",
    "    \"\"\"分子性质衍生特征的切断函数f_c\"\"\"\n",
    "    if r_cut > r_ij:  # r_ij:原子之间的距离(or距离矩阵？)\n",
    "        f = (np.cos(np.pi*r_ij/r_cut)+1)/2\n",
    "    else:\n",
    "        f = 0\n",
    "    return f\n",
    "\n",
    "\n",
    "def G_func(xyz,yita=1,r_s=3):\n",
    "    \"\"\"G1,G2函数（改写为了所有原子的和、均值）\"\"\"\n",
    "    g1_temp,g2_temp = [],[]\n",
    "    for j in range(xyz.shape[0]):\n",
    "        f_c_ls1 = []\n",
    "        f_c_ls2 = []\n",
    "        for k in range(xyz.shape[0]):\n",
    "            if k == j:\n",
    "                continue\n",
    "            dist_vec = np.linalg.norm(np.asarray(xyz[j]) - np.asarray(xyz[k]))\n",
    "            exp_dist_vec = np.exp(-yita * (dist_vec - r_s)**2)\n",
    "            f_c_ls1.append(f_c(dist_vec))\n",
    "            f_c_ls2.append(exp_dist_vec * f_c(dist_vec))\n",
    "        g1_temp.append(sum(f_c_ls1))  # 文献中给出的G1,每个团簇有n个G1\n",
    "        g2_temp.append(sum(f_c_ls2))  # 文献中给出的G2,每个团簇有n个G2\n",
    "        \n",
    "    g1_sum = np.sum(g1_temp)  # 对每个团簇的G1求和\n",
    "    g2_sum = np.sum(g2_temp)  # 对每个团簇的G2求和\n",
    "    g1 = np.average(g1_temp)  # 对每个团簇的G1求平均\n",
    "    g2 = np.average(g2_temp)  # 对每个团簇的G2求平均\n",
    "    return g1_sum,g2_sum,g1,g2,g1_temp,g2_temp\n",
    "g1_sum,g2_sum,g1,g2,g1_temp,g2_temp = G_func(xyz) # 测试\n",
    "\n",
    "\n",
    "def get_coulombMatrix(mole,zi,eigpercent=1):\n",
    "    \"\"\"\n",
    "    计算库伦矩阵特征值,每个团簇的库伦矩阵的特征值大小排序\n",
    "    \"\"\"\n",
    "    cij = np.zeros((mole.shape[0],mole.shape[0]))  # 初始化库伦矩阵\n",
    "    for i in range(mole.shape[0]): # 遍历所有原子\n",
    "        for j in range(mole.shape[0]): # 计算库伦矩阵\n",
    "            if i == j:\n",
    "                cij[i][j] = 0.5 * zi ** 2.4\n",
    "            else:\n",
    "                cij[i][j] = zi * zi / (np.linalg.norm((mole[i] - mole[j]),ord=1))\n",
    "                \n",
    "    eig,_ = np.linalg.eig((cij + cij.T)/2) # 计算特征值，特征向量(这里为了尽可能消除特征值为复数的写法)\n",
    "    eig_sorted = np.sort(eig)[::-1]\n",
    "    eigvalue = eig_sorted[:int(eig.shape[0]* eigpercent)]  # 选取最大的几个特征值（按照百分比计算，默认全部）\n",
    "    return eigvalue\n",
    "eigvalue = get_coulombMatrix(xyz,79,1) # 测试\n"
   ]
  },
  {
   "cell_type": "code",
   "execution_count": 5,
   "metadata": {
    "ExecuteTime": {
     "end_time": "2021-04-17T04:26:26.188264Z",
     "start_time": "2021-04-17T04:26:15.236720Z"
    },
    "code_folding": [],
    "scrolled": false
   },
   "outputs": [],
   "source": [
    "# 生成分析数据集(耗时较旧)\n",
    "def output_dataframe(path,zi,eigpercent=1): \n",
    "    \"\"\"\n",
    "    path:文件夹路径\n",
    "    zi:原子电荷数\n",
    "    eigpercent:库伦矩阵特征值个数比例\n",
    "    \"\"\"\n",
    "    filelist = get_allfile(path)\n",
    "    X = []   # 特征向量\n",
    "    Y = []   #预测目标(power)\n",
    "    for i in range(len(filelist)):\n",
    "        sample = []\n",
    "        file,power = read_one_xyz(filelist[i])  # 读取数据\n",
    "        \n",
    "         # 将库伦矩阵特征值添加到特征向量中\n",
    "        eigvalue = get_coulombMatrix(file,zi,eigpercent)  # 计算库伦矩阵\n",
    "        if isinstance(eigvalue[0],complex):   # 删除复数特征值样本\n",
    "            continue\n",
    "        sample = [x for x in eigvalue] \n",
    "        \n",
    "        # 将原子间的距离指标添加到特征向量中\n",
    "        dist = distmatrix(file)  # 距离矩阵\n",
    "        mindist,maxdist,meandist,meddist,sumdist = dict_index(dist)  # 距离指标\n",
    "        sample = sample + [mindist,maxdist,meandist,meddist,sumdist]\n",
    "        \n",
    "        # 将团簇网络结构指标添加到特征向量中\n",
    "        closematrix = np.where(dist>meandist,1,0)   # 计算邻接矩阵\n",
    "        Gnum,mean_cluster,netrans,mean_degrcenter,mean_closcenter,mean_betwcenter = netgraph_index(closematrix) # 网络结构指标\n",
    "        sample = sample + [Gnum,mean_cluster,netrans,mean_degrcenter,mean_closcenter,mean_betwcenter]     \n",
    "        \n",
    "        # 将G函数指标添加到特征向量中\n",
    "        g1_sum,g2_sum,g1,g2,g1_temp,g2_temp = G_func(file)  # 计算G1，G2\n",
    "        sample = sample + [g1_sum,g2_sum,g1,g2] + g1_temp + g2_temp\n",
    "        \n",
    "        X.append(sample)\n",
    "        \n",
    "        # 将预测能量添加到目标变量中\n",
    "        Y.append(power)\n",
    "    return X,Y\n",
    "\n",
    "X,Y = output_dataframe(path,79,0.7)"
   ]
  },
  {
   "cell_type": "code",
   "execution_count": 6,
   "metadata": {
    "ExecuteTime": {
     "end_time": "2021-04-17T04:35:53.543770Z",
     "start_time": "2021-04-17T04:35:53.443799Z"
    },
    "scrolled": false
   },
   "outputs": [
    {
     "data": {
      "text/plain": [
       "(998, 66)"
      ]
     },
     "execution_count": 6,
     "metadata": {},
     "output_type": "execute_result"
    }
   ],
   "source": [
    "df_X = pd.DataFrame(X).add_prefix(\"X\")\n",
    "df_Y = pd.DataFrame(Y,columns=[\"Y\"])\n",
    "data = pd.concat([df_X,df_Y],axis=1)\n",
    "\n",
    "\n",
    "data.to_csv(\"../A2_data/A2_output/Au20_alldata.csv\",index=False,header=True)\n",
    "# data.to_csv(\"../A2_data/A2_output/B45_alldata.csv\",index=False,header=True)\n",
    "df_X.shape\n",
    "# df_Y.shape"
   ]
  },
  {
   "cell_type": "code",
   "execution_count": 7,
   "metadata": {
    "ExecuteTime": {
     "end_time": "2021-04-17T04:35:56.687055Z",
     "start_time": "2021-04-17T04:35:56.606519Z"
    },
    "scrolled": true
   },
   "outputs": [
    {
     "data": {
      "text/html": [
       "<div>\n",
       "<style scoped>\n",
       "    .dataframe tbody tr th:only-of-type {\n",
       "        vertical-align: middle;\n",
       "    }\n",
       "\n",
       "    .dataframe tbody tr th {\n",
       "        vertical-align: top;\n",
       "    }\n",
       "\n",
       "    .dataframe thead th {\n",
       "        text-align: right;\n",
       "    }\n",
       "</style>\n",
       "<table border=\"1\" class=\"dataframe\">\n",
       "  <thead>\n",
       "    <tr style=\"text-align: right;\">\n",
       "      <th></th>\n",
       "      <th>X0</th>\n",
       "      <th>X1</th>\n",
       "      <th>X2</th>\n",
       "      <th>X3</th>\n",
       "      <th>X4</th>\n",
       "      <th>X5</th>\n",
       "      <th>X6</th>\n",
       "      <th>X7</th>\n",
       "      <th>X8</th>\n",
       "      <th>X9</th>\n",
       "      <th>...</th>\n",
       "      <th>X57</th>\n",
       "      <th>X58</th>\n",
       "      <th>X59</th>\n",
       "      <th>X60</th>\n",
       "      <th>X61</th>\n",
       "      <th>X62</th>\n",
       "      <th>X63</th>\n",
       "      <th>X64</th>\n",
       "      <th>X65</th>\n",
       "      <th>Y</th>\n",
       "    </tr>\n",
       "  </thead>\n",
       "  <tbody>\n",
       "    <tr>\n",
       "      <th>count</th>\n",
       "      <td>998.000000</td>\n",
       "      <td>998.000000</td>\n",
       "      <td>998.000000</td>\n",
       "      <td>998.000000</td>\n",
       "      <td>998.000000</td>\n",
       "      <td>998.000000</td>\n",
       "      <td>998.000000</td>\n",
       "      <td>998.000000</td>\n",
       "      <td>998.000000</td>\n",
       "      <td>998.000000</td>\n",
       "      <td>...</td>\n",
       "      <td>998.000000</td>\n",
       "      <td>998.000000</td>\n",
       "      <td>998.000000</td>\n",
       "      <td>998.000000</td>\n",
       "      <td>998.000000</td>\n",
       "      <td>998.000000</td>\n",
       "      <td>998.000000</td>\n",
       "      <td>998.000000</td>\n",
       "      <td>998.000000</td>\n",
       "      <td>998.000000</td>\n",
       "    </tr>\n",
       "    <tr>\n",
       "      <th>mean</th>\n",
       "      <td>37003.799272</td>\n",
       "      <td>21338.335853</td>\n",
       "      <td>20403.617090</td>\n",
       "      <td>19398.576966</td>\n",
       "      <td>18475.162186</td>\n",
       "      <td>17772.593194</td>\n",
       "      <td>17219.817345</td>\n",
       "      <td>16921.162551</td>\n",
       "      <td>16665.813232</td>\n",
       "      <td>16418.072982</td>\n",
       "      <td>...</td>\n",
       "      <td>2.468422</td>\n",
       "      <td>2.423316</td>\n",
       "      <td>2.425873</td>\n",
       "      <td>2.392216</td>\n",
       "      <td>2.396222</td>\n",
       "      <td>2.355988</td>\n",
       "      <td>2.355539</td>\n",
       "      <td>2.354708</td>\n",
       "      <td>2.375383</td>\n",
       "      <td>-1551.249213</td>\n",
       "    </tr>\n",
       "    <tr>\n",
       "      <th>std</th>\n",
       "      <td>1176.546028</td>\n",
       "      <td>826.080611</td>\n",
       "      <td>626.788803</td>\n",
       "      <td>492.832029</td>\n",
       "      <td>473.140187</td>\n",
       "      <td>340.687797</td>\n",
       "      <td>270.737713</td>\n",
       "      <td>240.236978</td>\n",
       "      <td>207.181598</td>\n",
       "      <td>189.374583</td>\n",
       "      <td>...</td>\n",
       "      <td>0.998806</td>\n",
       "      <td>0.904686</td>\n",
       "      <td>0.915706</td>\n",
       "      <td>0.872494</td>\n",
       "      <td>0.862204</td>\n",
       "      <td>0.829341</td>\n",
       "      <td>0.824070</td>\n",
       "      <td>0.816779</td>\n",
       "      <td>0.835108</td>\n",
       "      <td>2.876918</td>\n",
       "    </tr>\n",
       "    <tr>\n",
       "      <th>min</th>\n",
       "      <td>28748.080854</td>\n",
       "      <td>19416.769617</td>\n",
       "      <td>18486.172589</td>\n",
       "      <td>18182.925914</td>\n",
       "      <td>17177.438706</td>\n",
       "      <td>16760.523895</td>\n",
       "      <td>16468.192840</td>\n",
       "      <td>16097.516442</td>\n",
       "      <td>16058.184620</td>\n",
       "      <td>15930.593017</td>\n",
       "      <td>...</td>\n",
       "      <td>0.508247</td>\n",
       "      <td>0.505737</td>\n",
       "      <td>0.505737</td>\n",
       "      <td>0.505737</td>\n",
       "      <td>0.505737</td>\n",
       "      <td>0.505737</td>\n",
       "      <td>0.505737</td>\n",
       "      <td>0.505737</td>\n",
       "      <td>0.505737</td>\n",
       "      <td>-1557.209460</td>\n",
       "    </tr>\n",
       "    <tr>\n",
       "      <th>25%</th>\n",
       "      <td>36415.851422</td>\n",
       "      <td>20756.105335</td>\n",
       "      <td>19948.626821</td>\n",
       "      <td>19048.394044</td>\n",
       "      <td>18147.091902</td>\n",
       "      <td>17535.545277</td>\n",
       "      <td>17039.713868</td>\n",
       "      <td>16764.470794</td>\n",
       "      <td>16528.703855</td>\n",
       "      <td>16291.413958</td>\n",
       "      <td>...</td>\n",
       "      <td>1.699719</td>\n",
       "      <td>1.724965</td>\n",
       "      <td>1.678371</td>\n",
       "      <td>1.701272</td>\n",
       "      <td>1.729247</td>\n",
       "      <td>1.736558</td>\n",
       "      <td>1.746388</td>\n",
       "      <td>1.740181</td>\n",
       "      <td>1.753679</td>\n",
       "      <td>-1553.181022</td>\n",
       "    </tr>\n",
       "    <tr>\n",
       "      <th>50%</th>\n",
       "      <td>37145.819464</td>\n",
       "      <td>21248.727345</td>\n",
       "      <td>20350.056965</td>\n",
       "      <td>19374.472787</td>\n",
       "      <td>18431.483928</td>\n",
       "      <td>17751.736532</td>\n",
       "      <td>17203.980176</td>\n",
       "      <td>16912.228181</td>\n",
       "      <td>16655.488671</td>\n",
       "      <td>16415.639242</td>\n",
       "      <td>...</td>\n",
       "      <td>2.348991</td>\n",
       "      <td>2.374409</td>\n",
       "      <td>2.395537</td>\n",
       "      <td>2.361434</td>\n",
       "      <td>2.347855</td>\n",
       "      <td>2.331711</td>\n",
       "      <td>2.350716</td>\n",
       "      <td>2.336216</td>\n",
       "      <td>2.366741</td>\n",
       "      <td>-1551.656489</td>\n",
       "    </tr>\n",
       "    <tr>\n",
       "      <th>75%</th>\n",
       "      <td>37818.812970</td>\n",
       "      <td>21843.168966</td>\n",
       "      <td>20742.134938</td>\n",
       "      <td>19719.626952</td>\n",
       "      <td>18795.123681</td>\n",
       "      <td>17999.327970</td>\n",
       "      <td>17394.044131</td>\n",
       "      <td>17064.365066</td>\n",
       "      <td>16806.116037</td>\n",
       "      <td>16533.608346</td>\n",
       "      <td>...</td>\n",
       "      <td>3.107785</td>\n",
       "      <td>3.003151</td>\n",
       "      <td>2.997191</td>\n",
       "      <td>2.998197</td>\n",
       "      <td>2.985643</td>\n",
       "      <td>2.914458</td>\n",
       "      <td>2.904098</td>\n",
       "      <td>2.896371</td>\n",
       "      <td>2.927018</td>\n",
       "      <td>-1549.891524</td>\n",
       "    </tr>\n",
       "    <tr>\n",
       "      <th>max</th>\n",
       "      <td>39520.935742</td>\n",
       "      <td>25103.528620</td>\n",
       "      <td>22359.425914</td>\n",
       "      <td>21117.338988</td>\n",
       "      <td>19934.920138</td>\n",
       "      <td>18898.170670</td>\n",
       "      <td>18260.755045</td>\n",
       "      <td>17901.994806</td>\n",
       "      <td>17511.275877</td>\n",
       "      <td>17253.028500</td>\n",
       "      <td>...</td>\n",
       "      <td>6.362645</td>\n",
       "      <td>5.429415</td>\n",
       "      <td>5.429415</td>\n",
       "      <td>5.845394</td>\n",
       "      <td>5.845394</td>\n",
       "      <td>5.047359</td>\n",
       "      <td>5.047359</td>\n",
       "      <td>4.858245</td>\n",
       "      <td>4.863356</td>\n",
       "      <td>-1530.908363</td>\n",
       "    </tr>\n",
       "  </tbody>\n",
       "</table>\n",
       "<p>8 rows × 67 columns</p>\n",
       "</div>"
      ],
      "text/plain": [
       "                 X0            X1            X2            X3            X4  \\\n",
       "count    998.000000    998.000000    998.000000    998.000000    998.000000   \n",
       "mean   37003.799272  21338.335853  20403.617090  19398.576966  18475.162186   \n",
       "std     1176.546028    826.080611    626.788803    492.832029    473.140187   \n",
       "min    28748.080854  19416.769617  18486.172589  18182.925914  17177.438706   \n",
       "25%    36415.851422  20756.105335  19948.626821  19048.394044  18147.091902   \n",
       "50%    37145.819464  21248.727345  20350.056965  19374.472787  18431.483928   \n",
       "75%    37818.812970  21843.168966  20742.134938  19719.626952  18795.123681   \n",
       "max    39520.935742  25103.528620  22359.425914  21117.338988  19934.920138   \n",
       "\n",
       "                 X5            X6            X7            X8            X9  \\\n",
       "count    998.000000    998.000000    998.000000    998.000000    998.000000   \n",
       "mean   17772.593194  17219.817345  16921.162551  16665.813232  16418.072982   \n",
       "std      340.687797    270.737713    240.236978    207.181598    189.374583   \n",
       "min    16760.523895  16468.192840  16097.516442  16058.184620  15930.593017   \n",
       "25%    17535.545277  17039.713868  16764.470794  16528.703855  16291.413958   \n",
       "50%    17751.736532  17203.980176  16912.228181  16655.488671  16415.639242   \n",
       "75%    17999.327970  17394.044131  17064.365066  16806.116037  16533.608346   \n",
       "max    18898.170670  18260.755045  17901.994806  17511.275877  17253.028500   \n",
       "\n",
       "       ...         X57         X58         X59         X60         X61  \\\n",
       "count  ...  998.000000  998.000000  998.000000  998.000000  998.000000   \n",
       "mean   ...    2.468422    2.423316    2.425873    2.392216    2.396222   \n",
       "std    ...    0.998806    0.904686    0.915706    0.872494    0.862204   \n",
       "min    ...    0.508247    0.505737    0.505737    0.505737    0.505737   \n",
       "25%    ...    1.699719    1.724965    1.678371    1.701272    1.729247   \n",
       "50%    ...    2.348991    2.374409    2.395537    2.361434    2.347855   \n",
       "75%    ...    3.107785    3.003151    2.997191    2.998197    2.985643   \n",
       "max    ...    6.362645    5.429415    5.429415    5.845394    5.845394   \n",
       "\n",
       "              X62         X63         X64         X65            Y  \n",
       "count  998.000000  998.000000  998.000000  998.000000   998.000000  \n",
       "mean     2.355988    2.355539    2.354708    2.375383 -1551.249213  \n",
       "std      0.829341    0.824070    0.816779    0.835108     2.876918  \n",
       "min      0.505737    0.505737    0.505737    0.505737 -1557.209460  \n",
       "25%      1.736558    1.746388    1.740181    1.753679 -1553.181022  \n",
       "50%      2.331711    2.350716    2.336216    2.366741 -1551.656489  \n",
       "75%      2.914458    2.904098    2.896371    2.927018 -1549.891524  \n",
       "max      5.047359    5.047359    4.858245    4.863356 -1530.908363  \n",
       "\n",
       "[8 rows x 67 columns]"
      ]
     },
     "execution_count": 7,
     "metadata": {},
     "output_type": "execute_result"
    }
   ],
   "source": [
    "data.describe()"
   ]
  },
  {
   "cell_type": "code",
   "execution_count": 9,
   "metadata": {
    "ExecuteTime": {
     "end_time": "2021-04-17T04:36:45.001613Z",
     "start_time": "2021-04-17T04:36:44.889606Z"
    },
    "scrolled": false
   },
   "outputs": [
    {
     "data": {
      "text/plain": [
       "(997, 67)"
      ]
     },
     "execution_count": 9,
     "metadata": {},
     "output_type": "execute_result"
    },
    {
     "data": {
      "image/png": "[encoded data removed]",
      "text/plain": [
       "<Figure size 432x288 with 1 Axes>"
      ]
     },
     "metadata": {
      "needs_background": "light"
     },
     "output_type": "display_data"
    }
   ],
   "source": [
    "# plt.hist(df_Y,bins=30)  # 查看目标变量分布情况\n",
    "# B40存在异常值： data[\"Y\"] > -92000\n",
    "\n",
    "plt.hist(df_Y,bins=15)  # 查看目标变量分布情况\n",
    "# plt.show()\n",
    "# Au20 存在离群值，-1530.908363\n",
    "\n",
    "# 删除离群点\n",
    "data_drop = data[(data[\"Y\"] < -1535)]\n",
    "# data_drop = data[(data[\"Y\"] < -92000)]\n",
    "data_drop.shape"
   ]
  },
  {
   "cell_type": "code",
   "execution_count": 10,
   "metadata": {
    "ExecuteTime": {
     "end_time": "2021-04-17T04:36:50.151891Z",
     "start_time": "2021-04-17T04:36:50.137873Z"
    }
   },
   "outputs": [
    {
     "data": {
      "text/plain": [
       "(997, 67)"
      ]
     },
     "execution_count": 10,
     "metadata": {},
     "output_type": "execute_result"
    }
   ],
   "source": [
    "# 数据标准化\n",
    "zscore = preprocessing.StandardScaler()\n",
    "data_scale = zscore.fit_transform(data_drop)\n",
    "data_scale.shape"
   ]
  },
  {
   "cell_type": "code",
   "execution_count": 11,
   "metadata": {
    "ExecuteTime": {
     "end_time": "2021-04-17T04:36:51.100598Z",
     "start_time": "2021-04-17T04:36:51.089574Z"
    },
    "scrolled": true
   },
   "outputs": [
    {
     "data": {
      "text/plain": [
       "(997, 17)"
      ]
     },
     "execution_count": 11,
     "metadata": {},
     "output_type": "execute_result"
    }
   ],
   "source": [
    "# 主成分降维\n",
    "pca = PCA(n_components=0.9)\n",
    "pca.fit(data_scale[:,0:data_scale.shape[1]-1])\n",
    "data_scale_pca = pca.transform(data_scale[:,0:data_scale.shape[1]-1])\n",
    "data_scale_pca.shape"
   ]
  },
  {
   "cell_type": "code",
   "execution_count": 23,
   "metadata": {
    "ExecuteTime": {
     "end_time": "2021-04-17T04:40:35.074222Z",
     "start_time": "2021-04-17T04:40:35.058275Z"
    },
    "scrolled": true
   },
   "outputs": [],
   "source": [
    "# 划分数据集（测试发现：为标准化，进行降维之后效果较差）\n",
    "\n",
    "# 下面是标准化，未进行主成分降维的数据\n",
    "X_data = data_scale[:,range(data_scale.shape[1]-1)]\n",
    "Y_data = data_scale[:,-1]\n",
    "\n",
    "# 下面是不标准化，未进行主成分降维的数据\n",
    "# X_data = data_drop.iloc[:,range(data_drop.shape[1]-1)]\n",
    "# Y_data = data_drop.iloc[:,-1]\n",
    "\n",
    "X_train,X_test,y_train,y_test = train_test_split(X_data,Y_data,random_state=200,test_size=0.7)"
   ]
  },
  {
   "cell_type": "code",
   "execution_count": 24,
   "metadata": {
    "ExecuteTime": {
     "end_time": "2021-04-17T04:40:49.770872Z",
     "start_time": "2021-04-17T04:40:35.442791Z"
    },
    "scrolled": false
   },
   "outputs": [],
   "source": [
    "def cross_valid_allmodel(model,X,Y,kfold=5):\n",
    "    \"\"\"\n",
    "    构建一个交叉验证方法\n",
    "    返回交叉验证的评分\n",
    "    \"\"\"\n",
    "    cv = ShuffleSplit(n_splits=20, test_size=.3, random_state=0) \n",
    "    scores_CV = cross_val_score(model, X_data, Y_data, cv=cv)  \n",
    "    return scores_CV\n",
    "\n",
    "models = {\n",
    "    \"Linear Regression\":LinearRegression(),\n",
    "    \"Ridge Regression\":Ridge(),\n",
    "    \"Linear SVM\":LinearSVR(),\n",
    "    \"SVM\":SVR(),\n",
    "#     \"Random Forest\":RandomForestRegressor(), # 计算时间较长\n",
    "    \"XGBoost\":XGBRegressor(),\n",
    "    \"AdaBoost\":AdaBoostRegressor()\n",
    "}\n",
    "\n",
    "scores_dict = {}\n",
    "for name,model in models.items():\n",
    "    scores_CV = cross_valid_allmodel(model,X_data, Y_data,kfold=10)\n",
    "    scores_dict[name] = scores_CV  # 保存交叉验证评分结果\n"
   ]
  },
  {
   "cell_type": "code",
   "execution_count": 25,
   "metadata": {
    "ExecuteTime": {
     "end_time": "2021-04-17T04:40:49.945316Z",
     "start_time": "2021-04-17T04:40:49.772708Z"
    }
   },
   "outputs": [
    {
     "data": {
      "image/png": "[encoded data removed]",
      "text/plain": [
       "<Figure size 432x288 with 1 Axes>"
      ]
     },
     "metadata": {},
     "output_type": "display_data"
    },
    {
     "data": {
      "text/plain": [
       "'\\n从不同模型交叉验证的箱线图可以发现，黑箱算法（SVM/XGBoost/AdaBoost）普遍比白箱算法（线性回归，岭回归）预测效果较好。\\n但白箱算法的预测评分的中位数也在0.91附近，在应用中完全可以接受。\\n故考虑模型可接受性，最终预测模型选择线性回归模型\\n'"
      ]
     },
     "execution_count": 25,
     "metadata": {},
     "output_type": "execute_result"
    }
   ],
   "source": [
    "score_plotdata = pd.DataFrame(scores_dict).melt()\n",
    "\n",
    "# 可视化绘制箱线图\n",
    "sns.set(style=\"whitegrid\", color_codes=True)\n",
    "sns.boxplot(x=\"variable\", y=\"value\",data=score_plotdata)\n",
    "sns.swarmplot(x=\"variable\", y=\"value\", data=score_plotdata, color=\".25\")\n",
    "plt.xticks(rotation=90)\n",
    "plt.xlabel(\"Machine Learning Models\")\n",
    "plt.ylabel(\"Score\")\n",
    "plt.show()\n",
    "\n",
    "\"\"\"\n",
    "从不同模型交叉验证的箱线图可以发现，黑箱算法（SVM/XGBoost/AdaBoost）普遍比白箱算法（线性回归，岭回归）预测效果较好。\n",
    "但白箱算法的预测评分的中位数也在0.91附近，在应用中完全可以接受。\n",
    "故考虑模型可接受性，最终预测模型选择线性回归模型\n",
    "\"\"\""
   ]
  },
  {
   "cell_type": "code",
   "execution_count": 29,
   "metadata": {
    "ExecuteTime": {
     "end_time": "2021-04-17T04:42:30.233836Z",
     "start_time": "2021-04-17T04:42:29.963883Z"
    }
   },
   "outputs": [
    {
     "name": "stdout",
     "output_type": "stream",
     "text": [
      "[ 3.73270000e-01 -3.24580000e-01 -1.78660000e-01 -3.00000000e-03\n",
      "  1.18220000e-01  1.08890000e-01  1.03040000e-01  5.91900000e-02\n",
      "  9.70900000e-02 -1.95900000e-02  2.91000000e-02  1.11930000e-01\n",
      "  6.62500000e-02 -2.17070000e-01 -1.22470000e-01 -6.65785720e+12\n",
      "  3.08590000e-01  6.65785720e+12  4.16224446e+12  2.05190000e-01\n",
      " -4.19970000e-01 -4.16224446e+12 -2.86280000e-01  5.30000000e-04\n",
      " -8.45594120e+12  4.05885115e+11 -5.35638659e+12  2.68703067e+12\n",
      "  1.88686196e+12  1.76396883e+12  1.76790267e+12  1.71237372e+12\n",
      "  1.71579553e+12  1.66349489e+12  1.67104727e+12  1.37758059e+12\n",
      "  1.38786907e+12  1.39354072e+12  1.41509287e+12  1.29690053e+12\n",
      "  1.31075496e+12  1.25871102e+12  1.24285077e+12  1.19969065e+12\n",
      "  1.19314020e+12  1.16821616e+12  1.19796968e+12 -4.82269577e+11\n",
      " -4.30005919e+11 -4.33435059e+11 -4.15944547e+11 -4.18099957e+11\n",
      " -4.03970062e+11 -4.04740363e+11 -3.30891838e+11 -3.34063652e+11\n",
      " -3.31951179e+11 -3.36062300e+11 -3.04030130e+11 -3.07748448e+11\n",
      " -2.93184773e+11 -2.89707401e+11 -2.78641486e+11 -2.76861889e+11\n",
      " -2.74400608e+11 -2.80574051e+11]\n",
      "Training set score:0.7665777626\n",
      "Test set score:0.6347404720\n",
      "Training set MSE:0.23\n",
      "Test set MSE:0.37\n"
     ]
    },
    {
     "data": {
      "image/png": "[encoded data removed]",
      "text/plain": [
       "<Figure size 432x288 with 1 Axes>"
      ]
     },
     "metadata": {},
     "output_type": "display_data"
    },
    {
     "data": {
      "text/plain": [
       "'由于数据中存在异常值，所以可以发现残差图中有一处明显凸起。但整体上而言，无异常现象。'"
      ]
     },
     "execution_count": 29,
     "metadata": {},
     "output_type": "execute_result"
    }
   ],
   "source": [
    "\"\"\"线性回归\"\"\"\n",
    "lr = LinearRegression(fit_intercept=False,normalize=True,n_jobs=10).fit(X_train,y_train)\n",
    "lr_coef = np.round(lr.coef_,5)\n",
    "print(lr_coef)\n",
    "print('Training set score:{:.10f}'.format(lr.score(X_train,y_train)))\n",
    "print('Test set score:{:.10f}'.format(lr.score(X_test,y_test)))\n",
    "print(\"Training set MSE:{:.2f}\".format(mean_squared_error(y_train,lr.predict(X_train))))\n",
    "print(\"Test set MSE:{:.2f}\".format(mean_squared_error(y_test,lr.predict(X_test))))\n",
    "lr_predict = lr.predict(X_data)\n",
    "predict_data = pd.concat([pd.DataFrame(X_data),pd.DataFrame(Y_data,columns=[\"Y\"]),pd.DataFrame(lr_predict,columns=[\"predict\"])],axis=1)\n",
    "predict_data.to_csv(\"../A2_data/A2_output/Au20_predictdata.csv\",index=False,header=True)\n",
    "\n",
    "# 残差图\n",
    "plt.plot((lr.predict(X_data)-Y_data)**2)\n",
    "plt.show()\n",
    "\"由于数据中存在异常值，所以可以发现残差图中有一处明显凸起。但整体上而言，无异常现象。\""
   ]
  },
  {
   "cell_type": "code",
   "execution_count": null,
   "metadata": {},
   "outputs": [],
   "source": []
  }
 ],
 "metadata": {
  "kernelspec": {
   "display_name": "Python 3",
   "language": "python",
   "name": "python3"
  },
  "language_info": {
   "codemirror_mode": {
    "name": "ipython",
    "version": 3
   },
   "file_extension": ".py",
   "mimetype": "text/x-python",
   "name": "python",
   "nbconvert_exporter": "python",
   "pygments_lexer": "ipython3",
   "version": "3.8.5"
  },
  "latex_envs": {
   "LaTeX_envs_menu_present": true,
   "autoclose": false,
   "autocomplete": true,
   "bibliofile": "biblio.bib",
   "cite_by": "apalike",
   "current_citInitial": 1,
   "eqLabelWithNumbers": true,
   "eqNumInitial": 1,
   "hotkeys": {
    "equation": "Ctrl-E",
    "itemize": "Ctrl-I"
   },
   "labels_anchors": false,
   "latex_user_defs": false,
   "report_style_numbering": false,
   "user_envs_cfg": false
  },
  "toc": {
   "base_numbering": 1,
   "nav_menu": {},
   "number_sections": true,
   "sideBar": true,
   "skip_h1_title": false,
   "title_cell": "Table of Contents",
   "title_sidebar": "Contents",
   "toc_cell": false,
   "toc_position": {},
   "toc_section_display": true,
   "toc_window_display": false
  }
 },
 "nbformat": 4,
 "nbformat_minor": 4
}
