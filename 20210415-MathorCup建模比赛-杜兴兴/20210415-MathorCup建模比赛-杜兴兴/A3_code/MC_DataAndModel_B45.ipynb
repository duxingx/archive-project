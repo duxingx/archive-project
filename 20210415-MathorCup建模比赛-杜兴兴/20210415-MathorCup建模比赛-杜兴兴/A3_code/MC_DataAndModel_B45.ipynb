{
 "cells": [
  {
   "cell_type": "code",
   "execution_count": 1,
   "metadata": {
    "ExecuteTime": {
     "end_time": "2021-04-18T10:52:15.053504Z",
     "start_time": "2021-04-18T10:52:13.373188Z"
    }
   },
   "outputs": [],
   "source": [
    "import numpy as np\n",
    "import pandas as pd\n",
    "import matplotlib.pyplot as plt\n",
    "import seaborn as sns\n",
    "from mpl_toolkits.mplot3d import Axes3D\n",
    "from scipy.spatial.distance import cdist\n",
    "import networkx as nx\n",
    "import warnings\n",
    "warnings.filterwarnings(\"ignore\")\n",
    "plt.rcParams['font.sans-serif'] = ['SimHei'] \n",
    "plt.rcParams['axes.unicode_minus'] = False  \n",
    "\n",
    "\n",
    "import os\n",
    "import re\n",
    "import math\n",
    "\n",
    "from sklearn.linear_model import LinearRegression,Ridge,Lasso\n",
    "from sklearn.neighbors import KNeighborsRegressor\n",
    "from sklearn.svm import SVR,LinearSVR\n",
    "from sklearn.ensemble import AdaBoostRegressor,ExtraTreesRegressor,RandomForestRegressor,GradientBoostingRegressor\n",
    "from xgboost import XGBRegressor\n",
    "\n",
    "\n",
    "from sklearn.model_selection import train_test_split,cross_val_score,cross_val_predict # 交叉验证所需的函数\n",
    "from sklearn.model_selection import KFold,LeaveOneOut,LeavePOut,ShuffleSplit # 交叉验证所需的子集划分方法\n",
    "from sklearn.model_selection import StratifiedKFold,StratifiedShuffleSplit # 分层分割\n",
    "from sklearn.model_selection import GroupKFold,LeaveOneGroupOut,LeavePGroupsOut,GroupShuffleSplit # 分组分割\n",
    "\n",
    "\n",
    "\n",
    "from sklearn.model_selection import train_test_split,GridSearchCV\n",
    "from sklearn import preprocessing\n",
    "from sklearn.metrics import accuracy_score,mean_squared_error,mean_absolute_error\n",
    "from sklearn.decomposition import PCA\n",
    "from sklearn.preprocessing import PolynomialFeatures"
   ]
  },
  {
   "cell_type": "code",
   "execution_count": 2,
   "metadata": {
    "ExecuteTime": {
     "end_time": "2021-04-18T10:52:15.079597Z",
     "start_time": "2021-04-18T10:52:15.053504Z"
    },
    "code_folding": []
   },
   "outputs": [],
   "source": [
    "# path = \"../A2_data/A1_rawdata/Au20_OPT_1000/\"\n",
    "path = \"../A2_data/A1_rawdata/B45-_OPT_3751/\"\n",
    "\n",
    "# 读取文件名\n",
    "def get_allfile(path):\n",
    "    filelist = []\n",
    "    get_dir = os.listdir(path)\n",
    "    for i in get_dir:\n",
    "        filelist.append(os.path.join(path,i))\n",
    "    \n",
    "    return filelist\n",
    "\n",
    "# 测试\n",
    "filelist = get_allfile(path)\n",
    "# filelist"
   ]
  },
  {
   "cell_type": "code",
   "execution_count": 3,
   "metadata": {
    "ExecuteTime": {
     "end_time": "2021-04-18T10:52:16.008570Z",
     "start_time": "2021-04-18T10:52:15.985850Z"
    },
    "code_folding": []
   },
   "outputs": [
    {
     "data": {
      "text/plain": [
       "array(-113674.6411145)"
      ]
     },
     "execution_count": 3,
     "metadata": {},
     "output_type": "execute_result"
    }
   ],
   "source": [
    "\n",
    "# 读取团簇数据\n",
    "def read_one_xyz(filename):\n",
    "    xyz = []\n",
    "    with open(filename, 'r') as f: # 读取每一行\n",
    "        flines = f.readlines()\n",
    "        for fl in range(len(flines)):\n",
    "            if fl == 0: # 第一行为原子个数\n",
    "                num = flines[fl]\n",
    "            elif fl == 1: # 第二行为能量\n",
    "                power = np.array(re.findall(r\"[-]?\\d+\\.?\\d*\",str(flines[fl]))[-1]).astype(float)\n",
    "            else: # 其余行为坐标点\n",
    "                xyz.append(flines[fl].split())\n",
    "                \n",
    "    axis_xyz = []  \n",
    "    for i in xyz[1:]: # 划分坐标点为 x,y,z\n",
    "        axis_xyz.append(i[1:4])\n",
    "    axis_xyz_num = np.array(axis_xyz).astype(float)\n",
    "    \n",
    "    return axis_xyz_num,power\n",
    "\n",
    "# 测试\n",
    "# xyz,power = read_one_xyz(\"../A2_data/A1_rawdata/Au20_OPT_1000/2.xyz\")\n",
    "xyz,power = read_one_xyz(\"../A2_data/A1_rawdata/B45-_OPT_3751/2.xyz\")\n",
    "power\n",
    "# xyz"
   ]
  },
  {
   "cell_type": "code",
   "execution_count": 4,
   "metadata": {
    "ExecuteTime": {
     "end_time": "2021-04-18T10:52:16.967114Z",
     "start_time": "2021-04-18T10:52:16.889590Z"
    },
    "code_folding": [
     2,
     12,
     36,
     45,
     61,
     70,
     98
    ]
   },
   "outputs": [],
   "source": [
    "# 生成衍生变量\n",
    "\n",
    "def distmatrix(xyz_matrix):\n",
    "    \"\"\"计算原子距离矩阵\"\"\"\n",
    "    dist=cdist(xyz_matrix,xyz_matrix,metric='euclidean')\n",
    "    return dist\n",
    "dist = distmatrix(xyz) # 测试\n",
    "\n",
    "\n",
    "def dict_index(distmatrix):\n",
    "    \"\"\"\n",
    "    距离矩阵相关指标：最大距离，最小距离，平均距离，平均距离，中位数距离\n",
    "    \"\"\"\n",
    "    temp = []\n",
    "    \n",
    "    for i in range(distmatrix.shape[0]): # 遍历距离矩阵所有行\n",
    "        \n",
    "        for j in range(distmatrix.shape[1]): # 遍历距离矩阵所有列\n",
    "            if j >= i: # 不考虑原子与自身的距离\n",
    "                continue\n",
    "            temp.append(distmatrix[i,j]) # 将每个距离添加到列表，便于计算统计指标\n",
    "    mindist = min(temp)\n",
    "    maxdist = max(temp)\n",
    "    meandist = np.mean(temp)\n",
    "    meddist = np.median(temp)\n",
    "    sumdist = sum(temp)\n",
    "    return mindist,maxdist,meandist,meddist,sumdist\n",
    "mindist,maxdist,meandist,meddist,sumdist = dict_index(dist) # 测试\n",
    "\n",
    "\n",
    "def close_matrix(dist,index):\n",
    "    \"\"\"\n",
    "    根据距离矩阵得到邻接矩阵\n",
    "    \"\"\"\n",
    "    matrix = np.where(dist>index,1,0)    # 根据距离与index的相对来判断是否原子之间有边\n",
    "    return matrix\n",
    "\n",
    "\n",
    "def netgraph_index(matrix):\n",
    "    \"\"\"\n",
    "    网络图结构指标分析\n",
    "    \"\"\"\n",
    "    G = nx.Graph(matrix)  # 根据邻接矩阵构建网络结构\n",
    "    \n",
    "    Gnum =  G.number_of_edges()   # 网络边的数量\n",
    "    mean_cluster = nx.average_clustering(G) # 平均聚类系数\n",
    "    netrans = nx.transitivity(G) # 网络传递性\n",
    "    mean_degrcenter = np.average(list(nx.degree_centrality(G).values())) # 平均度中心性\n",
    "    mean_closcenter = np.average(list(nx.closeness_centrality(G).values())) # 平均接近中心性\n",
    "    mean_betwcenter = np.average(list(nx.betweenness_centrality(G).values())) # 平均中介中心性\n",
    "    \n",
    "    return Gnum,mean_cluster,netrans,mean_degrcenter,mean_closcenter,mean_betwcenter\n",
    "\n",
    "\n",
    "def f_c(r_ij,r_cut=6):\n",
    "    \"\"\"分子性质衍生特征的切断函数f_c\"\"\"\n",
    "    if r_cut > r_ij:  # r_ij:原子之间的距离(or距离矩阵？)\n",
    "        f = (np.cos(np.pi*r_ij/r_cut)+1)/2\n",
    "    else:\n",
    "        f = 0\n",
    "    return f\n",
    "\n",
    "\n",
    "def G_func(xyz,yita=1,r_s=3):\n",
    "    \"\"\"G1,G2函数（改写为了所有原子的和、均值）\"\"\"\n",
    "    g1_temp,g2_temp = [],[]\n",
    "    for j in range(xyz.shape[0]):\n",
    "        f_c_ls1 = []\n",
    "        f_c_ls2 = []\n",
    "        for k in range(xyz.shape[0]):\n",
    "            if k == j:\n",
    "                continue\n",
    "            dist_vec = np.linalg.norm(np.asarray(xyz[j]) - np.asarray(xyz[k]))\n",
    "            exp_dist_vec = np.exp(-yita * (dist_vec - r_s)**2)\n",
    "            f_c_ls1.append(f_c(dist_vec))\n",
    "            f_c_ls2.append(exp_dist_vec * f_c(dist_vec))\n",
    "        g1_temp.append(sum(f_c_ls1))  # 文献中给出的G1,每个团簇有n个G1\n",
    "        g2_temp.append(sum(f_c_ls2))  # 文献中给出的G2,每个团簇有n个G2\n",
    "        \n",
    "    g1_sum = np.sum(g1_temp)  # 对每个团簇的G1求和\n",
    "    g2_sum = np.sum(g2_temp)  # 对每个团簇的G2求和\n",
    "    g1 = np.average(g1_temp)  # 对每个团簇的G1求平均\n",
    "    g2 = np.average(g2_temp)  # 对每个团簇的G2求平均\n",
    "    return g1_sum,g2_sum,g1,g2,g1_temp,g2_temp\n",
    "g1_sum,g2_sum,g1,g2,g1_temp,g2_temp = G_func(xyz) # 测试\n",
    "\n",
    "\n",
    "def get_coulombMatrix(mole,zi,eigpercent=1):\n",
    "    \"\"\"\n",
    "    计算库伦矩阵特征值,每个团簇的库伦矩阵的特征值大小排序\n",
    "    \"\"\"\n",
    "    cij = np.zeros((mole.shape[0],mole.shape[0]))  # 初始化库伦矩阵\n",
    "    for i in range(mole.shape[0]): # 遍历所有原子\n",
    "        for j in range(mole.shape[0]): # 计算库伦矩阵\n",
    "            if i == j:\n",
    "                cij[i][j] = 0.5 * zi ** 2.4\n",
    "            else:\n",
    "                cij[i][j] = zi * zi / (np.linalg.norm((mole[i] - mole[j]),ord=1))\n",
    "                \n",
    "    eig,_ = np.linalg.eig((cij + cij.T)/2) # 计算特征值，特征向量(这里为了尽可能消除特征值为复数的写法)\n",
    "    eig_sorted = np.sort(eig)[::-1]\n",
    "    eigvalue = eig_sorted[:int(eig.shape[0]* eigpercent)]  # 选取最大的几个特征值（按照百分比计算，默认全部）\n",
    "    return eigvalue\n",
    "eigvalue = get_coulombMatrix(xyz,79,1) # 测试\n"
   ]
  },
  {
   "cell_type": "code",
   "execution_count": 6,
   "metadata": {
    "ExecuteTime": {
     "end_time": "2021-04-18T11:05:10.824875Z",
     "start_time": "2021-04-18T10:59:06.081551Z"
    },
    "code_folding": [],
    "scrolled": false
   },
   "outputs": [],
   "source": [
    "# 生成分析数据集(耗时较旧)\n",
    "def output_dataframe(path,zi,eigpercent=1): \n",
    "    \"\"\"\n",
    "    path:文件夹路径\n",
    "    zi:原子电荷数\n",
    "    eigpercent:库伦矩阵特征值个数比例\n",
    "    \"\"\"\n",
    "    filelist = get_allfile(path)\n",
    "    X = []   # 特征向量\n",
    "    Y = []   #预测目标(power)\n",
    "    for i in range(len(filelist)):\n",
    "        sample = []\n",
    "        file,power = read_one_xyz(filelist[i])  # 读取数据\n",
    "        \n",
    "         # 将库伦矩阵特征值添加到特征向量中\n",
    "        eigvalue = get_coulombMatrix(file,zi,eigpercent)  # 计算库伦矩阵\n",
    "        if isinstance(eigvalue[0],complex):   # 删除复数特征值样本\n",
    "            continue\n",
    "        sample = [x for x in eigvalue] \n",
    "        \n",
    "        # 将原子间的距离指标添加到特征向量中\n",
    "        dist = distmatrix(file)  # 距离矩阵\n",
    "        mindist,maxdist,meandist,meddist,sumdist = dict_index(dist)  # 距离指标\n",
    "        sample = sample + [mindist,maxdist,meandist,meddist,sumdist]\n",
    "        \n",
    "        # 将团簇网络结构指标添加到特征向量中\n",
    "        closematrix = np.where(dist>meandist,1,0)   # 计算邻接矩阵\n",
    "        Gnum,mean_cluster,netrans,mean_degrcenter,mean_closcenter,mean_betwcenter = netgraph_index(closematrix) # 网络结构指标\n",
    "        sample = sample + [Gnum,mean_cluster,netrans,mean_degrcenter,mean_closcenter,mean_betwcenter]     \n",
    "        \n",
    "        # 将G函数指标添加到特征向量中\n",
    "        g1_sum,g2_sum,g1,g2,g1_temp,g2_temp = G_func(file)  # 计算G1，G2\n",
    "        sample = sample + [g1_sum,g2_sum,g1,g2] + g1_temp + g2_temp\n",
    "        \n",
    "        X.append(sample)\n",
    "        \n",
    "        # 将预测能量添加到目标变量中\n",
    "        Y.append(power)\n",
    "    return X,Y\n",
    "\n",
    "X,Y = output_dataframe(path,5,1)"
   ]
  },
  {
   "cell_type": "code",
   "execution_count": 8,
   "metadata": {
    "ExecuteTime": {
     "end_time": "2021-04-18T11:14:41.574740Z",
     "start_time": "2021-04-18T11:14:41.456782Z"
    },
    "scrolled": false
   },
   "outputs": [
    {
     "data": {
      "text/plain": [
       "(3751, 147)"
      ]
     },
     "execution_count": 8,
     "metadata": {},
     "output_type": "execute_result"
    }
   ],
   "source": [
    "df_X = pd.DataFrame(X).add_prefix(\"X\")\n",
    "df_Y = pd.DataFrame(Y,columns=[\"Y\"])\n",
    "data = pd.concat([df_X,df_Y],axis=1)\n",
    "\n",
    "\n",
    "# data.to_csv(\"../A2_data/A2_output/Au20_alldata.csv\",index=False,header=True)\n",
    "# data.to_csv(\"../A2_data/A2_output/B45_alldata.csv\",index=False,header=True)\n",
    "df_X.shape\n",
    "# df_Y.shape"
   ]
  },
  {
   "cell_type": "code",
   "execution_count": 237,
   "metadata": {
    "ExecuteTime": {
     "end_time": "2021-04-17T04:42:46.964913Z",
     "start_time": "2021-04-17T04:42:46.802983Z"
    },
    "scrolled": true
   },
   "outputs": [
    {
     "data": {
      "text/html": [
       "<div>\n",
       "<style scoped>\n",
       "    .dataframe tbody tr th:only-of-type {\n",
       "        vertical-align: middle;\n",
       "    }\n",
       "\n",
       "    .dataframe tbody tr th {\n",
       "        vertical-align: top;\n",
       "    }\n",
       "\n",
       "    .dataframe thead th {\n",
       "        text-align: right;\n",
       "    }\n",
       "</style>\n",
       "<table border=\"1\" class=\"dataframe\">\n",
       "  <thead>\n",
       "    <tr style=\"text-align: right;\">\n",
       "      <th></th>\n",
       "      <th>X0</th>\n",
       "      <th>X1</th>\n",
       "      <th>X2</th>\n",
       "      <th>X3</th>\n",
       "      <th>X4</th>\n",
       "      <th>X5</th>\n",
       "      <th>X6</th>\n",
       "      <th>X7</th>\n",
       "      <th>X8</th>\n",
       "      <th>X9</th>\n",
       "      <th>...</th>\n",
       "      <th>X124</th>\n",
       "      <th>X125</th>\n",
       "      <th>X126</th>\n",
       "      <th>X127</th>\n",
       "      <th>X128</th>\n",
       "      <th>X129</th>\n",
       "      <th>X130</th>\n",
       "      <th>X131</th>\n",
       "      <th>X132</th>\n",
       "      <th>Y</th>\n",
       "    </tr>\n",
       "  </thead>\n",
       "  <tbody>\n",
       "    <tr>\n",
       "      <th>count</th>\n",
       "      <td>3751.000000</td>\n",
       "      <td>3751.000000</td>\n",
       "      <td>3751.000000</td>\n",
       "      <td>3751.000000</td>\n",
       "      <td>3751.000000</td>\n",
       "      <td>3751.000000</td>\n",
       "      <td>3751.000000</td>\n",
       "      <td>3751.000000</td>\n",
       "      <td>3751.000000</td>\n",
       "      <td>3751.000000</td>\n",
       "      <td>...</td>\n",
       "      <td>3751.000000</td>\n",
       "      <td>3751.000000</td>\n",
       "      <td>3751.000000</td>\n",
       "      <td>3751.000000</td>\n",
       "      <td>3751.000000</td>\n",
       "      <td>3751.000000</td>\n",
       "      <td>3751.000000</td>\n",
       "      <td>3751.000000</td>\n",
       "      <td>3751.000000</td>\n",
       "      <td>3751.000000</td>\n",
       "    </tr>\n",
       "    <tr>\n",
       "      <th>mean</th>\n",
       "      <td>208.007827</td>\n",
       "      <td>77.254762</td>\n",
       "      <td>68.087036</td>\n",
       "      <td>57.631149</td>\n",
       "      <td>43.363197</td>\n",
       "      <td>39.020450</td>\n",
       "      <td>34.850367</td>\n",
       "      <td>31.619835</td>\n",
       "      <td>29.091535</td>\n",
       "      <td>26.124976</td>\n",
       "      <td>...</td>\n",
       "      <td>2.382431</td>\n",
       "      <td>2.335453</td>\n",
       "      <td>6.444895</td>\n",
       "      <td>5.225741</td>\n",
       "      <td>5.606035</td>\n",
       "      <td>2.809822</td>\n",
       "      <td>2.847255</td>\n",
       "      <td>2.786895</td>\n",
       "      <td>5.861186</td>\n",
       "      <td>-113003.050077</td>\n",
       "    </tr>\n",
       "    <tr>\n",
       "      <th>std</th>\n",
       "      <td>2.220144</td>\n",
       "      <td>1.557135</td>\n",
       "      <td>1.301663</td>\n",
       "      <td>1.620305</td>\n",
       "      <td>1.439390</td>\n",
       "      <td>1.122502</td>\n",
       "      <td>0.701800</td>\n",
       "      <td>0.808649</td>\n",
       "      <td>0.546918</td>\n",
       "      <td>0.663793</td>\n",
       "      <td>...</td>\n",
       "      <td>0.186088</td>\n",
       "      <td>0.188329</td>\n",
       "      <td>0.305977</td>\n",
       "      <td>0.901156</td>\n",
       "      <td>0.283164</td>\n",
       "      <td>0.131549</td>\n",
       "      <td>0.097160</td>\n",
       "      <td>0.170903</td>\n",
       "      <td>0.626277</td>\n",
       "      <td>1102.720714</td>\n",
       "    </tr>\n",
       "    <tr>\n",
       "      <th>min</th>\n",
       "      <td>201.021730</td>\n",
       "      <td>70.157917</td>\n",
       "      <td>60.556214</td>\n",
       "      <td>48.236079</td>\n",
       "      <td>38.133438</td>\n",
       "      <td>33.410432</td>\n",
       "      <td>31.907934</td>\n",
       "      <td>27.735306</td>\n",
       "      <td>26.203807</td>\n",
       "      <td>24.267688</td>\n",
       "      <td>...</td>\n",
       "      <td>2.098139</td>\n",
       "      <td>2.098666</td>\n",
       "      <td>5.611987</td>\n",
       "      <td>0.607948</td>\n",
       "      <td>4.419764</td>\n",
       "      <td>2.608601</td>\n",
       "      <td>2.655424</td>\n",
       "      <td>2.522099</td>\n",
       "      <td>3.017336</td>\n",
       "      <td>-114153.544545</td>\n",
       "    </tr>\n",
       "    <tr>\n",
       "      <th>25%</th>\n",
       "      <td>206.561627</td>\n",
       "      <td>76.438027</td>\n",
       "      <td>67.235746</td>\n",
       "      <td>56.914331</td>\n",
       "      <td>42.364774</td>\n",
       "      <td>38.292508</td>\n",
       "      <td>34.372235</td>\n",
       "      <td>31.179327</td>\n",
       "      <td>28.815050</td>\n",
       "      <td>25.724689</td>\n",
       "      <td>...</td>\n",
       "      <td>2.324829</td>\n",
       "      <td>2.263053</td>\n",
       "      <td>6.211334</td>\n",
       "      <td>4.755199</td>\n",
       "      <td>5.404963</td>\n",
       "      <td>2.661411</td>\n",
       "      <td>2.739087</td>\n",
       "      <td>2.589474</td>\n",
       "      <td>5.543462</td>\n",
       "      <td>-113471.859984</td>\n",
       "    </tr>\n",
       "    <tr>\n",
       "      <th>50%</th>\n",
       "      <td>208.283432</td>\n",
       "      <td>77.241649</td>\n",
       "      <td>67.980598</td>\n",
       "      <td>57.927276</td>\n",
       "      <td>43.331022</td>\n",
       "      <td>39.282209</td>\n",
       "      <td>34.833629</td>\n",
       "      <td>31.735190</td>\n",
       "      <td>29.079397</td>\n",
       "      <td>25.998167</td>\n",
       "      <td>...</td>\n",
       "      <td>2.358381</td>\n",
       "      <td>2.317718</td>\n",
       "      <td>6.382477</td>\n",
       "      <td>5.238845</td>\n",
       "      <td>5.581095</td>\n",
       "      <td>2.849820</td>\n",
       "      <td>2.882598</td>\n",
       "      <td>2.851895</td>\n",
       "      <td>5.834476</td>\n",
       "      <td>-113390.999393</td>\n",
       "    </tr>\n",
       "    <tr>\n",
       "      <th>75%</th>\n",
       "      <td>209.292961</td>\n",
       "      <td>78.119169</td>\n",
       "      <td>68.758596</td>\n",
       "      <td>58.726163</td>\n",
       "      <td>44.459938</td>\n",
       "      <td>39.810441</td>\n",
       "      <td>35.256399</td>\n",
       "      <td>32.158579</td>\n",
       "      <td>29.368248</td>\n",
       "      <td>26.382656</td>\n",
       "      <td>...</td>\n",
       "      <td>2.380532</td>\n",
       "      <td>2.342397</td>\n",
       "      <td>6.643194</td>\n",
       "      <td>5.926761</td>\n",
       "      <td>5.766765</td>\n",
       "      <td>2.903870</td>\n",
       "      <td>2.907981</td>\n",
       "      <td>2.909793</td>\n",
       "      <td>6.236049</td>\n",
       "      <td>-112661.643290</td>\n",
       "    </tr>\n",
       "    <tr>\n",
       "      <th>max</th>\n",
       "      <td>260.348059</td>\n",
       "      <td>92.146358</td>\n",
       "      <td>76.461047</td>\n",
       "      <td>62.795107</td>\n",
       "      <td>50.892417</td>\n",
       "      <td>45.003749</td>\n",
       "      <td>38.613750</td>\n",
       "      <td>35.176600</td>\n",
       "      <td>32.616846</td>\n",
       "      <td>29.372387</td>\n",
       "      <td>...</td>\n",
       "      <td>7.536185</td>\n",
       "      <td>7.317012</td>\n",
       "      <td>9.048758</td>\n",
       "      <td>9.326874</td>\n",
       "      <td>9.373373</td>\n",
       "      <td>5.386466</td>\n",
       "      <td>6.047938</td>\n",
       "      <td>5.329318</td>\n",
       "      <td>9.753818</td>\n",
       "      <td>-70185.439454</td>\n",
       "    </tr>\n",
       "  </tbody>\n",
       "</table>\n",
       "<p>8 rows × 134 columns</p>\n",
       "</div>"
      ],
      "text/plain": [
       "                X0           X1           X2           X3           X4  \\\n",
       "count  3751.000000  3751.000000  3751.000000  3751.000000  3751.000000   \n",
       "mean    208.007827    77.254762    68.087036    57.631149    43.363197   \n",
       "std       2.220144     1.557135     1.301663     1.620305     1.439390   \n",
       "min     201.021730    70.157917    60.556214    48.236079    38.133438   \n",
       "25%     206.561627    76.438027    67.235746    56.914331    42.364774   \n",
       "50%     208.283432    77.241649    67.980598    57.927276    43.331022   \n",
       "75%     209.292961    78.119169    68.758596    58.726163    44.459938   \n",
       "max     260.348059    92.146358    76.461047    62.795107    50.892417   \n",
       "\n",
       "                X5           X6           X7           X8           X9  ...  \\\n",
       "count  3751.000000  3751.000000  3751.000000  3751.000000  3751.000000  ...   \n",
       "mean     39.020450    34.850367    31.619835    29.091535    26.124976  ...   \n",
       "std       1.122502     0.701800     0.808649     0.546918     0.663793  ...   \n",
       "min      33.410432    31.907934    27.735306    26.203807    24.267688  ...   \n",
       "25%      38.292508    34.372235    31.179327    28.815050    25.724689  ...   \n",
       "50%      39.282209    34.833629    31.735190    29.079397    25.998167  ...   \n",
       "75%      39.810441    35.256399    32.158579    29.368248    26.382656  ...   \n",
       "max      45.003749    38.613750    35.176600    32.616846    29.372387  ...   \n",
       "\n",
       "              X124         X125         X126         X127         X128  \\\n",
       "count  3751.000000  3751.000000  3751.000000  3751.000000  3751.000000   \n",
       "mean      2.382431     2.335453     6.444895     5.225741     5.606035   \n",
       "std       0.186088     0.188329     0.305977     0.901156     0.283164   \n",
       "min       2.098139     2.098666     5.611987     0.607948     4.419764   \n",
       "25%       2.324829     2.263053     6.211334     4.755199     5.404963   \n",
       "50%       2.358381     2.317718     6.382477     5.238845     5.581095   \n",
       "75%       2.380532     2.342397     6.643194     5.926761     5.766765   \n",
       "max       7.536185     7.317012     9.048758     9.326874     9.373373   \n",
       "\n",
       "              X129         X130         X131         X132              Y  \n",
       "count  3751.000000  3751.000000  3751.000000  3751.000000    3751.000000  \n",
       "mean      2.809822     2.847255     2.786895     5.861186 -113003.050077  \n",
       "std       0.131549     0.097160     0.170903     0.626277    1102.720714  \n",
       "min       2.608601     2.655424     2.522099     3.017336 -114153.544545  \n",
       "25%       2.661411     2.739087     2.589474     5.543462 -113471.859984  \n",
       "50%       2.849820     2.882598     2.851895     5.834476 -113390.999393  \n",
       "75%       2.903870     2.907981     2.909793     6.236049 -112661.643290  \n",
       "max       5.386466     6.047938     5.329318     9.753818  -70185.439454  \n",
       "\n",
       "[8 rows x 134 columns]"
      ]
     },
     "execution_count": 237,
     "metadata": {},
     "output_type": "execute_result"
    }
   ],
   "source": [
    "data.describe()"
   ]
  },
  {
   "cell_type": "code",
   "execution_count": 11,
   "metadata": {
    "ExecuteTime": {
     "end_time": "2021-04-18T11:17:02.181688Z",
     "start_time": "2021-04-18T11:17:02.049790Z"
    }
   },
   "outputs": [
    {
     "data": {
      "image/png": "[encoded data removed]",
      "text/plain": [
       "<Figure size 576x432 with 1 Axes>"
      ]
     },
     "metadata": {
      "needs_background": "light"
     },
     "output_type": "display_data"
    }
   ],
   "source": [
    "# plt.hist(df_Y,bins=30)  # 查看目标变量分布情况\n",
    "# B40存在异常值： data[\"Y\"] > -92000\n",
    "\n",
    "plt.figure(figsize=(8,6))\n",
    "plt.hist(df_Y,bins=50,)  # 查看目标变量分布情况\n",
    "plt.xlabel = \"团簇能量值\"\n",
    "plt.ylabel = \"团簇频数\"\n",
    "plt.show()\n",
    "# Au20 存在离群值，-1530.908363\n",
    "\n",
    "# 删除离群点\n",
    "# data_drop = data[(data[\"Y\"] < -1535)]\n",
    "# data_drop = data[(data[\"Y\"] < -92000)]\n",
    "# data_drop.shape"
   ]
  },
  {
   "cell_type": "code",
   "execution_count": 239,
   "metadata": {
    "ExecuteTime": {
     "end_time": "2021-04-17T04:42:50.874601Z",
     "start_time": "2021-04-17T04:42:50.849685Z"
    },
    "scrolled": true
   },
   "outputs": [
    {
     "data": {
      "text/html": [
       "<div>\n",
       "<style scoped>\n",
       "    .dataframe tbody tr th:only-of-type {\n",
       "        vertical-align: middle;\n",
       "    }\n",
       "\n",
       "    .dataframe tbody tr th {\n",
       "        vertical-align: top;\n",
       "    }\n",
       "\n",
       "    .dataframe thead th {\n",
       "        text-align: right;\n",
       "    }\n",
       "</style>\n",
       "<table border=\"1\" class=\"dataframe\">\n",
       "  <thead>\n",
       "    <tr style=\"text-align: right;\">\n",
       "      <th></th>\n",
       "      <th>X0</th>\n",
       "      <th>X1</th>\n",
       "      <th>X2</th>\n",
       "      <th>X3</th>\n",
       "      <th>X4</th>\n",
       "      <th>X5</th>\n",
       "      <th>X6</th>\n",
       "      <th>X7</th>\n",
       "      <th>X8</th>\n",
       "      <th>X9</th>\n",
       "      <th>...</th>\n",
       "      <th>X124</th>\n",
       "      <th>X125</th>\n",
       "      <th>X126</th>\n",
       "      <th>X127</th>\n",
       "      <th>X128</th>\n",
       "      <th>X129</th>\n",
       "      <th>X130</th>\n",
       "      <th>X131</th>\n",
       "      <th>X132</th>\n",
       "      <th>Y</th>\n",
       "    </tr>\n",
       "  </thead>\n",
       "  <tbody>\n",
       "    <tr>\n",
       "      <th>58</th>\n",
       "      <td>260.348059</td>\n",
       "      <td>92.146358</td>\n",
       "      <td>74.934405</td>\n",
       "      <td>55.822554</td>\n",
       "      <td>48.383856</td>\n",
       "      <td>42.599792</td>\n",
       "      <td>38.501719</td>\n",
       "      <td>34.403665</td>\n",
       "      <td>29.290034</td>\n",
       "      <td>27.745334</td>\n",
       "      <td>...</td>\n",
       "      <td>2.155852</td>\n",
       "      <td>2.098666</td>\n",
       "      <td>7.732736</td>\n",
       "      <td>7.712355</td>\n",
       "      <td>7.313829</td>\n",
       "      <td>5.386466</td>\n",
       "      <td>6.047938</td>\n",
       "      <td>5.329318</td>\n",
       "      <td>7.268369</td>\n",
       "      <td>-90505.475321</td>\n",
       "    </tr>\n",
       "    <tr>\n",
       "      <th>1942</th>\n",
       "      <td>206.852453</td>\n",
       "      <td>79.726325</td>\n",
       "      <td>68.268848</td>\n",
       "      <td>57.045339</td>\n",
       "      <td>43.163937</td>\n",
       "      <td>39.980140</td>\n",
       "      <td>35.727562</td>\n",
       "      <td>32.505516</td>\n",
       "      <td>30.066527</td>\n",
       "      <td>25.894804</td>\n",
       "      <td>...</td>\n",
       "      <td>2.389966</td>\n",
       "      <td>2.716886</td>\n",
       "      <td>6.117108</td>\n",
       "      <td>5.293850</td>\n",
       "      <td>5.616236</td>\n",
       "      <td>2.959741</td>\n",
       "      <td>2.912765</td>\n",
       "      <td>2.834316</td>\n",
       "      <td>5.856625</td>\n",
       "      <td>-70185.439454</td>\n",
       "    </tr>\n",
       "  </tbody>\n",
       "</table>\n",
       "<p>2 rows × 134 columns</p>\n",
       "</div>"
      ],
      "text/plain": [
       "              X0         X1         X2         X3         X4         X5  \\\n",
       "58    260.348059  92.146358  74.934405  55.822554  48.383856  42.599792   \n",
       "1942  206.852453  79.726325  68.268848  57.045339  43.163937  39.980140   \n",
       "\n",
       "             X6         X7         X8         X9  ...      X124      X125  \\\n",
       "58    38.501719  34.403665  29.290034  27.745334  ...  2.155852  2.098666   \n",
       "1942  35.727562  32.505516  30.066527  25.894804  ...  2.389966  2.716886   \n",
       "\n",
       "          X126      X127      X128      X129      X130      X131      X132  \\\n",
       "58    7.732736  7.712355  7.313829  5.386466  6.047938  5.329318  7.268369   \n",
       "1942  6.117108  5.293850  5.616236  2.959741  2.912765  2.834316  5.856625   \n",
       "\n",
       "                 Y  \n",
       "58   -90505.475321  \n",
       "1942 -70185.439454  \n",
       "\n",
       "[2 rows x 134 columns]"
      ]
     },
     "execution_count": 239,
     "metadata": {},
     "output_type": "execute_result"
    }
   ],
   "source": [
    "data[(data[\"Y\"] > -92000)]"
   ]
  },
  {
   "cell_type": "code",
   "execution_count": 12,
   "metadata": {
    "ExecuteTime": {
     "end_time": "2021-04-18T11:18:01.882377Z",
     "start_time": "2021-04-18T11:18:01.857100Z"
    },
    "scrolled": false
   },
   "outputs": [
    {
     "data": {
      "text/plain": [
       "(3749, 148)"
      ]
     },
     "execution_count": 12,
     "metadata": {},
     "output_type": "execute_result"
    }
   ],
   "source": [
    "# plt.hist(df_Y,bins=15)  # 查看目标变量分布情况\n",
    "# plt.show()\n",
    "# Au20 存在离群值，-1530.908363\n",
    "\n",
    "# 删除离群点\n",
    "# data_drop = data[(data[\"Y\"] < -1535)]\n",
    "data_drop = data[(data[\"Y\"] < -92000)]\n",
    "data_drop.shape"
   ]
  },
  {
   "cell_type": "code",
   "execution_count": 13,
   "metadata": {
    "ExecuteTime": {
     "end_time": "2021-04-18T11:18:10.930113Z",
     "start_time": "2021-04-18T11:18:10.903804Z"
    }
   },
   "outputs": [
    {
     "data": {
      "text/plain": [
       "(3749, 148)"
      ]
     },
     "execution_count": 13,
     "metadata": {},
     "output_type": "execute_result"
    }
   ],
   "source": [
    "# 数据标准化\n",
    "zscore = preprocessing.StandardScaler()\n",
    "data_scale = zscore.fit_transform(data_drop)\n",
    "data_scale.shape"
   ]
  },
  {
   "cell_type": "code",
   "execution_count": 16,
   "metadata": {
    "ExecuteTime": {
     "end_time": "2021-04-18T11:22:55.080896Z",
     "start_time": "2021-04-18T11:22:55.047189Z"
    },
    "scrolled": true
   },
   "outputs": [
    {
     "data": {
      "text/plain": [
       "(3749, 32)"
      ]
     },
     "execution_count": 16,
     "metadata": {},
     "output_type": "execute_result"
    }
   ],
   "source": [
    "# 主成分降维\n",
    "pca = PCA(n_components=0.9)\n",
    "pca.fit(data_scale[:,0:data_scale.shape[1]-1])\n",
    "data_scale_pca = pca.transform(data_scale[:,0:data_scale.shape[1]-1])\n",
    "data_scale_pca.shape"
   ]
  },
  {
   "cell_type": "code",
   "execution_count": 17,
   "metadata": {
    "ExecuteTime": {
     "end_time": "2021-04-18T11:22:56.121337Z",
     "start_time": "2021-04-18T11:22:56.094768Z"
    },
    "scrolled": true
   },
   "outputs": [],
   "source": [
    "# 划分数据集（测试发现：为标准化，进行降维之后效果较差）\n",
    "\n",
    "# 下面是标准化，未进行主成分降维的数据\n",
    "# X_data = data_scale[:,range(data_scale.shape[1]-1)]\n",
    "# Y_data = data_scale[:,-1]\n",
    "\n",
    "# 下面是标准化，进行主成分降维的数据\n",
    "X_data = data_scale_pca[:,range(data_scale_pca.shape[1]-1)]\n",
    "Y_data = data_scale[:,-1]\n",
    "\n",
    "# 下面是不标准化，未进行主成分降维的数据\n",
    "# X_data = data_drop.iloc[:,range(data_drop.shape[1]-1)]\n",
    "# Y_data = data_drop.iloc[:,-1]\n",
    "X_train,X_test,y_train,y_test = train_test_split(X_data,Y_data,random_state=200,test_size=0.7)\n",
    "\n"
   ]
  },
  {
   "cell_type": "code",
   "execution_count": 19,
   "metadata": {
    "ExecuteTime": {
     "end_time": "2021-04-18T11:24:45.536749Z",
     "start_time": "2021-04-18T11:23:59.826111Z"
    },
    "scrolled": false
   },
   "outputs": [
    {
     "name": "stdout",
     "output_type": "stream",
     "text": [
      "Linear Regression : [0.90674028 0.88000706 0.90126366 0.90328732 0.90872542 0.88805077\n",
      " 0.89166078 0.88638758 0.9143474  0.90018208 0.88645308 0.90807561\n",
      " 0.89537245 0.88978127 0.90005071 0.88070255 0.89572738 0.90858505\n",
      " 0.88465269 0.90197997]\n",
      "Ridge Regression : [0.90674321 0.8800009  0.901262   0.90328623 0.90872628 0.88804772\n",
      " 0.89165991 0.88638667 0.91435175 0.90018699 0.88645629 0.9080787\n",
      " 0.8953685  0.88978477 0.90006011 0.88070889 0.89572861 0.90858272\n",
      " 0.88464196 0.90198543]\n",
      "Linear SVM : [0.8951281  0.85757457 0.88012883 0.87976731 0.88343448 0.86515735\n",
      " 0.87968579 0.85944814 0.8925273  0.87644088 0.86599557 0.89441878\n",
      " 0.86609542 0.8783938  0.88251515 0.86657042 0.88092521 0.88483579\n",
      " 0.85758596 0.89110673]\n",
      "SVM : [0.93383191 0.8983324  0.93259465 0.93984623 0.93860327 0.91314655\n",
      " 0.91217199 0.91135979 0.94023877 0.94067454 0.9122699  0.9363849\n",
      " 0.92287416 0.91337959 0.93746195 0.90998095 0.92543427 0.94137819\n",
      " 0.90358231 0.9398377 ]\n",
      "XGBoost : [0.90672439 0.8894945  0.90981375 0.91400276 0.90186378 0.88649448\n",
      " 0.89015107 0.89135585 0.92927084 0.8629261  0.87523932 0.9263603\n",
      " 0.89524707 0.88670135 0.86205013 0.87925618 0.90236125 0.92499634\n",
      " 0.88491554 0.91264693]\n",
      "AdaBoost : [0.86422292 0.83915286 0.83982048 0.8542549  0.8662498  0.82453678\n",
      " 0.82664518 0.83661988 0.85322435 0.8366952  0.84852147 0.86075139\n",
      " 0.83933288 0.843215   0.86044417 0.826622   0.86221818 0.85596269\n",
      " 0.83356451 0.85147125]\n"
     ]
    }
   ],
   "source": [
    "def cross_valid_allmodel(model,X,Y,kfold=5):\n",
    "    \"\"\"\n",
    "    构建一个交叉验证方法\n",
    "    返回交叉验证的评分\n",
    "    \"\"\"\n",
    "    cv = ShuffleSplit(n_splits=20, test_size=.3, random_state=0) \n",
    "    scores_CV = cross_val_score(model, X_data, Y_data, cv=cv)  \n",
    "    return scores_CV\n",
    "\n",
    "models = {\n",
    "    \"Linear Regression\":LinearRegression(),\n",
    "    \"Ridge Regression\":Ridge(),\n",
    "    \"Linear SVM\":LinearSVR(),\n",
    "    \"SVM\":SVR(),\n",
    "#     \"Random Forest\":RandomForestRegressor(), # 计算时间较长\n",
    "    \"XGBoost\":XGBRegressor(),\n",
    "    \"AdaBoost\":AdaBoostRegressor()\n",
    "}\n",
    "\n",
    "scores_dict = {}\n",
    "for name,model in models.items():\n",
    "    scores_CV = cross_valid_allmodel(model,X_data, Y_data,kfold=10)\n",
    "    print(name,\":\",scores_CV)\n",
    "    scores_dict[name] = scores_CV  # 保存交叉验证评分结果\n",
    "df_scoresCV = pd.DataFrame(scores_dict)\n",
    "df_scoresCV.to_csv(\"../A2_data/A2_output/df_scoresCVB45.csv\",index=False,header=True)"
   ]
  },
  {
   "cell_type": "code",
   "execution_count": 21,
   "metadata": {
    "ExecuteTime": {
     "end_time": "2021-04-18T11:40:17.984091Z",
     "start_time": "2021-04-18T11:40:17.769611Z"
    }
   },
   "outputs": [
    {
     "ename": "TypeError",
     "evalue": "'str' object is not callable",
     "output_type": "error",
     "traceback": [
      "\u001b[1;31m---------------------------------------------------------------------------\u001b[0m",
      "\u001b[1;31mTypeError\u001b[0m                                 Traceback (most recent call last)",
      "\u001b[1;32m<ipython-input-21-9482f5af67ca>\u001b[0m in \u001b[0;36m<module>\u001b[1;34m\u001b[0m\n\u001b[0;32m      6\u001b[0m \u001b[0msns\u001b[0m\u001b[1;33m.\u001b[0m\u001b[0mswarmplot\u001b[0m\u001b[1;33m(\u001b[0m\u001b[0mx\u001b[0m\u001b[1;33m=\u001b[0m\u001b[1;34m\"variable\"\u001b[0m\u001b[1;33m,\u001b[0m \u001b[0my\u001b[0m\u001b[1;33m=\u001b[0m\u001b[1;34m\"value\"\u001b[0m\u001b[1;33m,\u001b[0m \u001b[0mdata\u001b[0m\u001b[1;33m=\u001b[0m\u001b[0mscore_plotdata\u001b[0m\u001b[1;33m,\u001b[0m \u001b[0mcolor\u001b[0m\u001b[1;33m=\u001b[0m\u001b[1;34m\".25\"\u001b[0m\u001b[1;33m)\u001b[0m\u001b[1;33m\u001b[0m\u001b[1;33m\u001b[0m\u001b[0m\n\u001b[0;32m      7\u001b[0m \u001b[0mplt\u001b[0m\u001b[1;33m.\u001b[0m\u001b[0mxticks\u001b[0m\u001b[1;33m(\u001b[0m\u001b[0mrotation\u001b[0m\u001b[1;33m=\u001b[0m\u001b[1;36m90\u001b[0m\u001b[1;33m)\u001b[0m\u001b[1;33m\u001b[0m\u001b[1;33m\u001b[0m\u001b[0m\n\u001b[1;32m----> 8\u001b[1;33m \u001b[0mplt\u001b[0m\u001b[1;33m.\u001b[0m\u001b[0mxlabel\u001b[0m\u001b[1;33m(\u001b[0m\u001b[1;34m\"Machine Learning Models\"\u001b[0m\u001b[1;33m)\u001b[0m\u001b[1;33m\u001b[0m\u001b[1;33m\u001b[0m\u001b[0m\n\u001b[0m\u001b[0;32m      9\u001b[0m \u001b[0mplt\u001b[0m\u001b[1;33m.\u001b[0m\u001b[0mylabel\u001b[0m\u001b[1;33m(\u001b[0m\u001b[1;34m\"Score\"\u001b[0m\u001b[1;33m)\u001b[0m\u001b[1;33m\u001b[0m\u001b[1;33m\u001b[0m\u001b[0m\n\u001b[0;32m     10\u001b[0m \u001b[0mplt\u001b[0m\u001b[1;33m.\u001b[0m\u001b[0mshow\u001b[0m\u001b[1;33m(\u001b[0m\u001b[1;33m)\u001b[0m\u001b[1;33m\u001b[0m\u001b[1;33m\u001b[0m\u001b[0m\n",
      "\u001b[1;31mTypeError\u001b[0m: 'str' object is not callable"
     ]
    },
    {
     "data": {
      "image/png": "[encoded data removed]",
      "text/plain": [
       "<Figure size 432x288 with 1 Axes>"
      ]
     },
     "metadata": {},
     "output_type": "display_data"
    }
   ],
   "source": [
    "score_plotdata = pd.DataFrame(scores_dict).melt()\n",
    "\n",
    "# 可视化绘制箱线图\n",
    "sns.set(style=\"whitegrid\", color_codes=True)\n",
    "sns.boxplot(x=\"variable\", y=\"value\",data=score_plotdata)\n",
    "sns.swarmplot(x=\"variable\", y=\"value\", data=score_plotdata, color=\".25\")\n",
    "plt.xticks(rotation=90)\n",
    "plt.xlabel(\"Machine Learning Models\")\n",
    "plt.ylabel(\"Score\")\n",
    "plt.show()\n",
    "\n",
    "\"\"\"\n",
    "从不同模型交叉验证的箱线图可以发现，黑箱算法（SVM/XGBoost/AdaBoost）普遍比白箱算法（线性回归，岭回归）预测效果较好。\n",
    "但白箱算法的预测评分的中位数也在0.91附近，在应用中完全可以接受。\n",
    "故考虑模型可接受性，最终预测模型选择线性回归模型\n",
    "\"\"\""
   ]
  },
  {
   "cell_type": "code",
   "execution_count": 24,
   "metadata": {
    "ExecuteTime": {
     "end_time": "2021-04-18T11:41:50.471245Z",
     "start_time": "2021-04-18T11:41:50.109468Z"
    }
   },
   "outputs": [
    {
     "name": "stdout",
     "output_type": "stream",
     "text": [
      "[-0.097  0.004  0.082  0.116 -0.144  0.026  0.011  0.047 -0.009 -0.009\n",
      " -0.077  0.035 -0.073  0.025 -0.065  0.039 -0.125 -0.136  0.021  0.051\n",
      " -0.047  0.046  0.076 -0.116  0.033  0.133  0.072  0.024  0.007 -0.014\n",
      "  0.074]\n",
      "Training set score:0.9099570033\n",
      "Test set score:0.8941867178\n",
      "Training set MSE:0.10\n",
      "Test set MSE:0.10\n"
     ]
    },
    {
     "data": {
      "image/png": "[encoded data removed]",
      "text/plain": [
       "<Figure size 432x288 with 1 Axes>"
      ]
     },
     "metadata": {},
     "output_type": "display_data"
    },
    {
     "data": {
      "text/plain": [
       "'由于数据中存在异常值，所以可以发现残差图中有一处明显凸起。但整体上而言，无异常现象。'"
      ]
     },
     "execution_count": 24,
     "metadata": {},
     "output_type": "execute_result"
    }
   ],
   "source": [
    "\"\"\"线性回归\"\"\"\n",
    "lr = LinearRegression(fit_intercept=False,normalize=True,n_jobs=10).fit(X_train,y_train)\n",
    "lr_coef = np.round(lr.coef_,3)\n",
    "print(lr_coef)\n",
    "print('Training set score:{:.10f}'.format(lr.score(X_train,y_train)))\n",
    "print('Test set score:{:.10f}'.format(lr.score(X_test,y_test)))\n",
    "print(\"Training set MSE:{:.2f}\".format(mean_squared_error(y_train,lr.predict(X_train))))\n",
    "print(\"Test set MSE:{:.2f}\".format(mean_squared_error(y_test,lr.predict(X_test))))\n",
    "lr_predict = lr.predict(X_data)\n",
    "predict_data = pd.concat([pd.DataFrame(X_data),pd.DataFrame(Y_data,columns=[\"Y\"]),pd.DataFrame(lr_predict,columns=[\"predict\"])],axis=1)\n",
    "predict_data.to_csv(\"../A2_data/A2_output/B45_predictdata.csv\",index=False,header=True)\n",
    "\n",
    "# 残差图\n",
    "plt.plot((lr.predict(X_data)-Y_data)**2)\n",
    "plt.show()\n",
    "\"由于数据中存在异常值，所以可以发现残差图中有一处明显凸起。但整体上而言，无异常现象。\""
   ]
  },
  {
   "cell_type": "code",
   "execution_count": null,
   "metadata": {},
   "outputs": [],
   "source": []
  }
 ],
 "metadata": {
  "kernelspec": {
   "display_name": "Python 3",
   "language": "python",
   "name": "python3"
  },
  "language_info": {
   "codemirror_mode": {
    "name": "ipython",
    "version": 3
   },
   "file_extension": ".py",
   "mimetype": "text/x-python",
   "name": "python",
   "nbconvert_exporter": "python",
   "pygments_lexer": "ipython3",
   "version": "3.8.5"
  },
  "latex_envs": {
   "LaTeX_envs_menu_present": true,
   "autoclose": false,
   "autocomplete": true,
   "bibliofile": "biblio.bib",
   "cite_by": "apalike",
   "current_citInitial": 1,
   "eqLabelWithNumbers": true,
   "eqNumInitial": 1,
   "hotkeys": {
    "equation": "Ctrl-E",
    "itemize": "Ctrl-I"
   },
   "labels_anchors": false,
   "latex_user_defs": false,
   "report_style_numbering": false,
   "user_envs_cfg": false
  },
  "toc": {
   "base_numbering": 1,
   "nav_menu": {},
   "number_sections": true,
   "sideBar": true,
   "skip_h1_title": false,
   "title_cell": "Table of Contents",
   "title_sidebar": "Contents",
   "toc_cell": false,
   "toc_position": {},
   "toc_section_display": true,
   "toc_window_display": false
  }
 },
 "nbformat": 4,
 "nbformat_minor": 4
}
