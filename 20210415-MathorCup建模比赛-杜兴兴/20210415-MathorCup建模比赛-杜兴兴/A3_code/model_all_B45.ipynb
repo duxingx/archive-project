{
 "cells": [
  {
   "cell_type": "code",
   "execution_count": 1,
   "metadata": {
    "ExecuteTime": {
     "end_time": "2021-04-17T00:29:13.389467Z",
     "start_time": "2021-04-17T00:29:07.660019Z"
    }
   },
   "outputs": [],
   "source": [
    "import numpy as np\n",
    "import pandas as pd\n",
    "import networkx as nx\n",
    "from sklearn.model_selection import train_test_split\n",
    "from scipy.spatial.distance import cdist\n",
    "from sklearn.feature_selection import SelectPercentile\n",
    "from sklearn.linear_model import LinearRegression,Ridge,Lasso\n",
    "from sklearn.ensemble import AdaBoostRegressor,ExtraTreesRegressor,RandomForestRegressor,GradientBoostingRegressor\n",
    "from sklearn.neighbors import KNeighborsRegressor\n",
    "from sklearn.neural_network import MLPRegressor\n",
    "from sklearn import preprocessing\n",
    "from sklearn.metrics import mean_squared_error"
   ]
  },
  {
   "cell_type": "code",
   "execution_count": 3,
   "metadata": {
    "ExecuteTime": {
     "end_time": "2021-04-16T14:36:37.172223Z",
     "start_time": "2021-04-16T14:36:33.150642Z"
    }
   },
   "outputs": [],
   "source": [
    "\n",
    "path = r'../A2_data/A2_output/处理数据.xlsx'\n",
    "df = pd.read_excel(path,sheet_name='Au20')\n",
    "X,y = df.iloc[:,3:],df.iloc[:,2]\n",
    "X,y = X.values,y.values    # X特征参数、y能量标签属性\n",
    "\n",
    "def xyz(n):\n",
    "    \"\"\"xyz[]:第n个样本原子的坐标值\"\"\"\n",
    "    xyz = []\n",
    "    for i in range(20):\n",
    "        xyz.append([X[n,0 + 3 * i], X[n,1 + 3 * i], X[n,2 + 3 * i]])\n",
    "    return xyz\n",
    "\n",
    "def distmatrix(xyz):\n",
    "    \"\"\"计算单个团簇样本的距离矩阵\"\"\"\n",
    "    dist=cdist(xyz,xyz,metric='euclidean')\n",
    "    return dist\n",
    "\n",
    "def kulun(Z,sample):\n",
    "    \"\"\"采用库伦矩阵对单个团簇样本的坐标降维：c = N*N\n",
    "    Z：原子序号\"\"\"\n",
    "    c = np.zeros((20,20))\n",
    "    for i in range(20):\n",
    "        for j in range(20):\n",
    "            if i == j:\n",
    "                c[i,j] = 0.5*(Z**2.4)\n",
    "            else:\n",
    "                c[i,j] = (Z**2)/np.linalg.norm(np.asarray(sample[i])-np.asarray(sample[j]))\n",
    "    return c\n",
    "\n",
    "def eig_(maxtri):\n",
    "    \"\"\"计算矩阵的特征值和特征向量\"\"\"\n",
    "    return np.linalg.eig(maxtri)\n",
    "\n",
    "\"\"\"生成衍生特征\"\"\"\n",
    "def dict_index(dist):\n",
    "    \"\"\"距离矩阵相关指标：最大距离，最小距离，平均距离，平均距离，中位数距离\"\"\"\n",
    "    mindist, maxdist, sumdist, meandist, meddist = [], [], [], [], []\n",
    "    for i in range(dist.shape[0]):\n",
    "        temp = []\n",
    "        for j in range(dist.shape[1]):\n",
    "            if j == i:\n",
    "                continue\n",
    "            temp.append(dist[i, j])\n",
    "        mindist = min(temp)\n",
    "        maxdist = max(temp)\n",
    "        meandist = np.mean(temp)\n",
    "        meddist = np.median(temp)\n",
    "        sumdist = sum(temp)\n",
    "    return mindist, maxdist, meandist, meddist, sumdist\n",
    "\n",
    "def close_matrix(dist, index):\n",
    "    \"\"\"根据距离矩阵得到邻接矩阵\"\"\"\n",
    "    matrix = np.where(dist > index, 1, 0)\n",
    "    return matrix\n",
    "\n",
    "def netgraph_index(matrix):\n",
    "    \"\"\"网络图结构指标分析 \"\"\"\n",
    "    G = nx.Graph(matrix)\n",
    "    Gnum = G.number_of_edges()\n",
    "    mean_cluster = nx.average_clustering(G)  # 平均聚类系数\n",
    "    netrans = nx.transitivity(G)  # 网络传递性\n",
    "    mean_degrcenter = np.average(list(nx.degree_centrality(G).values()))  # 平均度中心性\n",
    "    mean_closcenter = np.average(list(nx.closeness_centrality(G).values()))  # 平均接近中心性\n",
    "    mean_betwcenter = np.average(list(nx.betweenness_centrality(G).values()))  # 平均中介中心性\n",
    "    return Gnum, mean_cluster, netrans, mean_degrcenter, mean_closcenter, mean_betwcenter\n",
    "\n",
    "r_cut = 0.6\n",
    "yita = 1\n",
    "r_s = 3\n",
    "def f_c(r_ij):\n",
    "    \"\"\"分子性质衍生特征的切断函数f_c\"\"\"\n",
    "    if r_cut > r_ij:\n",
    "        f = (np.cos(np.pi*r_ij/r_cut)+1)/2\n",
    "    else:\n",
    "        f = 0\n",
    "    return f\n",
    "\n",
    "def feature_vector():\n",
    "    \"\"\"特征向量的预处理\"\"\"\n",
    "    data = []\n",
    "    for i in range(len(y)):\n",
    "        \"\"\"库伦矩阵降维\"\"\"\n",
    "        sample = xyz(i)\n",
    "        c = kulun(79, sample)\n",
    "        a, b = eig_(c)  # a为特征值、b为特征向量\n",
    "        a = list(a)\n",
    "        \"\"\"距离衍生特征\"\"\"\n",
    "        dist = distmatrix(sample)  # 距离矩阵\n",
    "        mindist, maxdist, meandist, meddist, sumdist = dict_index(dist)  # 距离指标\n",
    "        a = a + [mindist, maxdist, meandist, meddist, sumdist]\n",
    "        \"\"\"复杂网络衍生特征\"\"\"\n",
    "        closematrix = np.where(dist > meandist, 1, 0)  # 计算邻接矩阵\n",
    "        Gnum, mean_cluster, netrans, mean_degrcenter, mean_closcenter, mean_betwcenter = netgraph_index(closematrix)  # 网络结构指标\n",
    "        a = a + [Gnum, mean_cluster, netrans, mean_degrcenter, mean_closcenter, mean_betwcenter]\n",
    "        # \"\"\"分子性质衍生特征\"\"\"\n",
    "        # a.append(np.average([np.exp(-yita*(np.linalg.norm(np.asarray(sample[j]) - np.asarray(sample[k])-r_s)**2))*\n",
    "        #                      f_c(np.linalg.norm(np.asarray(sample[j]) - np.asarray(sample[k])))\n",
    "        #                      for j in range(20) for k in range(20)]))   # 函数G2\n",
    "        # a.append(np.average([f_c(np.linalg.norm(np.asarray(sample[j]) - np.asarray(sample[k])))\n",
    "        #                      for j in range(20) for k in range(20)]))   # 函数G1\n",
    "        data.append(list(a))\n",
    "    data = np.array(data,dtype=float)\n",
    "    return data\n"
   ]
  },
  {
   "cell_type": "code",
   "execution_count": 4,
   "metadata": {
    "ExecuteTime": {
     "end_time": "2021-04-16T14:36:47.307711Z",
     "start_time": "2021-04-16T14:36:40.164344Z"
    }
   },
   "outputs": [
    {
     "name": "stderr",
     "output_type": "stream",
     "text": [
      "<ipython-input-3-344ce790f704>:102: ComplexWarning: Casting complex values to real discards the imaginary part\n",
      "  data = np.array(data,dtype=float)\n"
     ]
    }
   ],
   "source": [
    "data = feature_vector()   # 特征向量\n",
    "X_train,X_test,y_train,y_test = train_test_split(data,y,random_state=42)\n",
    "\n",
    "\"\"\"提取特征值\"\"\"\n",
    "select = SelectPercentile(percentile=100)   # 百分比\n",
    "select.fit(X_train,y_train)\n",
    "X_train_selected = select.transform(X_train)\n",
    "X_test_selected = select.transform(X_test)"
   ]
  },
  {
   "cell_type": "code",
   "execution_count": 5,
   "metadata": {
    "ExecuteTime": {
     "end_time": "2021-04-16T14:36:52.866533Z",
     "start_time": "2021-04-16T14:36:52.844229Z"
    }
   },
   "outputs": [
    {
     "name": "stdout",
     "output_type": "stream",
     "text": [
      "lr.coef_:[ 3.21338552e+08  3.21338552e+08  3.21338552e+08  3.21338552e+08\n",
      "  3.21338552e+08  3.21338552e+08  3.21338552e+08  3.21338552e+08\n",
      "  3.21338552e+08  3.21338552e+08  3.21338552e+08  3.21338552e+08\n",
      "  3.21338552e+08  3.21338552e+08  3.21338552e+08  3.21338552e+08\n",
      "  3.21338552e+08  3.21338552e+08  3.21338552e+08  3.21338552e+08\n",
      " -1.54845646e+01 -4.11397632e-01  3.70298215e-03 -4.24050434e-01\n",
      "  7.03566762e-02  2.71092072e-02 -1.43324327e+00  2.35158384e+00\n",
      "  1.42679581e-04 -4.50631726e+00  3.26930705e+01]\n",
      "lr.intercept_:-115151036514786.03\n",
      "Training set score of lr:0.73\n",
      "Test set score of lr:0.69\n"
     ]
    }
   ],
   "source": [
    "\n",
    "\"\"\"线性回归\"\"\"\n",
    "lr = LinearRegression().fit(X_train_selected,y_train)\n",
    "print('lr.coef_:{}'.format(lr.coef_))\n",
    "print('lr.intercept_:{}'.format(lr.intercept_))\n",
    "print('Training set score of lr:{:.2f}'.format(lr.score(X_train_selected,y_train)))\n",
    "print('Test set score of lr:{:.2f}'.format(lr.score(X_test_selected,y_test)))"
   ]
  },
  {
   "cell_type": "code",
   "execution_count": 6,
   "metadata": {
    "ExecuteTime": {
     "end_time": "2021-04-16T14:36:58.229754Z",
     "start_time": "2021-04-16T14:36:58.212396Z"
    },
    "scrolled": true
   },
   "outputs": [
    {
     "name": "stdout",
     "output_type": "stream",
     "text": [
      "ridge.coef_:[-9.38142679e-04 -5.78438097e-04 -4.01585618e-04 -3.51324750e-04\n",
      " -1.82068644e-04 -1.41933710e-04  5.56759115e-06 -9.13914091e-05\n",
      " -6.66016665e-05  6.99106321e-05 -2.02200735e-05  1.00464364e-05\n",
      "  2.16101796e-04 -1.65786276e-04  4.69393203e-04  7.66751161e-05\n",
      "  4.92301195e-04  3.72938520e-04  2.15715337e-04  1.00884351e-03\n",
      " -3.28724705e-01 -4.06204703e-01  2.80796612e-03 -2.42297139e-01\n",
      "  5.33513563e-02  3.50671839e-04 -6.30838227e-02  2.94650127e-01\n",
      "  1.84564126e-06 -1.06440096e-01  5.50016804e-03]\n",
      "ridge.intercept_:-1513.7796319480365\n",
      "Training set score of ridge:0.72\n",
      "Test set score of ridge:0.69\n"
     ]
    }
   ],
   "source": [
    "\n",
    "\"\"\"岭回归\"\"\"\n",
    "ridge = Ridge(alpha=10).fit(X_train_selected,y_train)\n",
    "print('ridge.coef_:{}'.format(ridge.coef_))\n",
    "print('ridge.intercept_:{}'.format(ridge.intercept_))\n",
    "print('Training set score of ridge:{:.2f}'.format(ridge.score(X_train_selected,y_train)))\n",
    "print('Test set score of ridge:{:.2f}'.format(ridge.score(X_test_selected,y_test)))"
   ]
  },
  {
   "cell_type": "code",
   "execution_count": 7,
   "metadata": {
    "ExecuteTime": {
     "end_time": "2021-04-16T14:37:02.062339Z",
     "start_time": "2021-04-16T14:37:02.037643Z"
    }
   },
   "outputs": [
    {
     "name": "stdout",
     "output_type": "stream",
     "text": [
      "Training set score of lasso:0.71\n",
      "Test set score of lasso:0.68\n",
      "Training set MSE of lasso:2.39\n",
      "Test set MSE of lasso:2.73\n"
     ]
    }
   ],
   "source": [
    "\"\"\"Lasso回归\"\"\"\n",
    "lasso = Lasso().fit(X_train_selected,y_train)\n",
    "print('Training set score of lasso:{:.2f}'.format(lasso.score(X_train_selected,y_train)))\n",
    "print('Test set score of lasso:{:.2f}'.format(lasso.score(X_test_selected,y_test)))\n",
    "print(\"Training set MSE of lasso:{:.2f}\".format(mean_squared_error(y_train,lasso.predict(X_train_selected))))\n",
    "print(\"Test set MSE of lasso:{:.2f}\".format(mean_squared_error(y_test,lasso.predict(X_test_selected))))"
   ]
  },
  {
   "cell_type": "code",
   "execution_count": 8,
   "metadata": {
    "ExecuteTime": {
     "end_time": "2021-04-16T14:37:06.362902Z",
     "start_time": "2021-04-16T14:37:05.581465Z"
    }
   },
   "outputs": [
    {
     "name": "stdout",
     "output_type": "stream",
     "text": [
      "Training set score:0.97\n",
      "Test set score:0.75\n",
      "Training set MSE:0.26\n",
      "Test set MSE:2.14\n"
     ]
    }
   ],
   "source": [
    "\n",
    "\"\"\"随机森林\"\"\"\n",
    "rf = RandomForestRegressor().fit(X_train,y_train)\n",
    "print('Training set score:{:.2f}'.format(rf.score(X_train,y_train)))\n",
    "print('Test set score:{:.2f}'.format(rf.score(X_test,y_test)))\n",
    "print(\"Training set MSE:{:.2f}\".format(mean_squared_error(y_train,rf.predict(X_train))))\n",
    "print(\"Test set MSE:{:.2f}\".format(mean_squared_error(y_test,rf.predict(X_test))))"
   ]
  },
  {
   "cell_type": "code",
   "execution_count": 9,
   "metadata": {
    "ExecuteTime": {
     "end_time": "2021-04-16T14:37:37.872270Z",
     "start_time": "2021-04-16T14:37:37.628552Z"
    }
   },
   "outputs": [
    {
     "name": "stderr",
     "output_type": "stream",
     "text": [
      "D:\\Program Files\\Anaconda3\\lib\\site-packages\\sklearn\\utils\\validation.py:72: DataConversionWarning: A column-vector y was passed when a 1d array was expected. Please change the shape of y to (n_samples, ), for example using ravel().\n",
      "  return f(**kwargs)\n"
     ]
    },
    {
     "name": "stdout",
     "output_type": "stream",
     "text": [
      "Train ERROR =  0.010741414908111993\n",
      "Test ERROR =  0.009878760616176674\n",
      "Accuracy on training set:0.13\n",
      "Accuracy on test set:0.02\n"
     ]
    }
   ],
   "source": [
    "\n",
    "\"\"\"神经网络\"\"\"\n",
    "# 引入标准化函数\n",
    "x_MinMax = preprocessing.MinMaxScaler()\n",
    "y_MinMax = preprocessing.MinMaxScaler()\n",
    "y = np.array(y).reshape(len(y),1)\n",
    "X_ = x_MinMax.fit_transform(X)\n",
    "y_ = y_MinMax.fit_transform(y)\n",
    "X_train_, X_test_, y_train_, y_test_ = train_test_split(X_,y_,test_size = 0.2)\n",
    "mlp = MLPRegressor(solver='adam',activation='relu',random_state=0,hidden_layer_sizes=[10,100],alpha=0.1).fit(X_train_,y_train_)\n",
    "#计算训练集mse\n",
    "pred1_train = mlp.predict(X_train_)\n",
    "mse_1 = mean_squared_error(pred1_train,y_train_)\n",
    "print (\"Train ERROR = \", mse_1)\n",
    "#计算测试集mse\n",
    "pred1_test = mlp.predict(X_test_)\n",
    "mse_2 = mean_squared_error(pred1_test,y_test_)\n",
    "print (\"Test ERROR = \", mse_2)\n",
    "print('Accuracy on training set:{:.2f}'.format(mlp.score(X_train_,y_train_)))\n",
    "print('Accuracy on test set:{:.2f}'.format(mlp.score(X_test_,y_test_)))\n"
   ]
  },
  {
   "cell_type": "code",
   "execution_count": null,
   "metadata": {},
   "outputs": [],
   "source": []
  }
 ],
 "metadata": {
  "kernelspec": {
   "display_name": "Python 3",
   "language": "python",
   "name": "python3"
  },
  "language_info": {
   "codemirror_mode": {
    "name": "ipython",
    "version": 3
   },
   "file_extension": ".py",
   "mimetype": "text/x-python",
   "name": "python",
   "nbconvert_exporter": "python",
   "pygments_lexer": "ipython3",
   "version": "3.8.5"
  },
  "latex_envs": {
   "LaTeX_envs_menu_present": true,
   "autoclose": false,
   "autocomplete": true,
   "bibliofile": "biblio.bib",
   "cite_by": "apalike",
   "current_citInitial": 1,
   "eqLabelWithNumbers": true,
   "eqNumInitial": 1,
   "hotkeys": {
    "equation": "Ctrl-E",
    "itemize": "Ctrl-I"
   },
   "labels_anchors": false,
   "latex_user_defs": false,
   "report_style_numbering": false,
   "user_envs_cfg": false
  },
  "toc": {
   "base_numbering": 1,
   "nav_menu": {},
   "number_sections": true,
   "sideBar": true,
   "skip_h1_title": false,
   "title_cell": "Table of Contents",
   "title_sidebar": "Contents",
   "toc_cell": false,
   "toc_position": {},
   "toc_section_display": true,
   "toc_window_display": false
  }
 },
 "nbformat": 4,
 "nbformat_minor": 4
}
