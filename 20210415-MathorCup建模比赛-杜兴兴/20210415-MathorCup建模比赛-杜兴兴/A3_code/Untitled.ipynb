{
 "cells": [
  {
   "cell_type": "code",
   "execution_count": 3,
   "metadata": {
    "ExecuteTime": {
     "end_time": "2021-04-15T09:55:52.651484Z",
     "start_time": "2021-04-15T09:55:46.424875Z"
    }
   },
   "outputs": [],
   "source": [
    "import os\n",
    "import pandas as pd\n",
    "\n",
    "#C:\\Users\\马宁丽\\Desktop\\2021MathorCup高校数学建模挑战赛\\2021年MathorCup高校数学建模挑战赛题目\\B\\附件\\Au20_OPT_1000\\B45-_OPT_3751\n",
    "#C:\\Users\\马宁丽\\Desktop\\2021MathorCup高校数学建模挑战赛\n",
    "\n",
    "\n",
    "path = \"../A2_data/A1_rawdata/B45-_OPT_3751/\"\n",
    "files = os.listdir(path)  ##得到文件夹下的所有文件名称\n",
    "samples = []\n",
    "columns_list = ['num','energy']\n",
    "for i in range(1,46):\n",
    "    columns_list.append('x{}'.format(i))\n",
    "    columns_list.append('y{}'.format(i))\n",
    "    columns_list.append('z{}'.format(i))\n",
    "\n",
    "for f_num in range(len(files)):  ##遍历文件夹\n",
    "    file = files[f_num]\n",
    "    domain = os.path.abspath(path)\n",
    "    file = os.path.join(domain, file)\n",
    "    fn = open(str(file))\n",
    "    f = fn.readlines()\n",
    "    xyz_list = []\n",
    "    for l in range(len(f)):\n",
    "        if l == 0:\n",
    "            num = int(f[l])\n",
    "            xyz_list.append(num)\n",
    "        elif l == 1:\n",
    "            # energy = float(f[l])\n",
    "            line = f[l].split('\\t')\n",
    "            line_ = line[-1]\n",
    "            str_ = line_.split(':')\n",
    "            energy = str_[-1]\n",
    "            xyz_list.append(energy)\n",
    "        else:\n",
    "            xyz = f[l].split()\n",
    "            xyz_list.append(float(xyz[1]))\n",
    "            xyz_list.append(float(xyz[2]))\n",
    "            xyz_list.append(float(xyz[3]))\n",
    "    samples.append(xyz_list)\n",
    "df = pd.DataFrame(samples,columns=columns_list)\n",
    "df.to_excel('../A2_data/A2_output/MathorCup高校数学建模挑战赛.xlsx',sheet_name='A',na_rep='NAN')\n",
    "\n",
    "if __name__ == '__main__':\n",
    "    pass\n",
    "\n"
   ]
  },
  {
   "cell_type": "code",
   "execution_count": null,
   "metadata": {},
   "outputs": [],
   "source": []
  }
 ],
 "metadata": {
  "kernelspec": {
   "display_name": "Python 3",
   "language": "python",
   "name": "python3"
  },
  "language_info": {
   "codemirror_mode": {
    "name": "ipython",
    "version": 3
   },
   "file_extension": ".py",
   "mimetype": "text/x-python",
   "name": "python",
   "nbconvert_exporter": "python",
   "pygments_lexer": "ipython3",
   "version": "3.8.5"
  },
  "latex_envs": {
   "LaTeX_envs_menu_present": true,
   "autoclose": false,
   "autocomplete": true,
   "bibliofile": "biblio.bib",
   "cite_by": "apalike",
   "current_citInitial": 1,
   "eqLabelWithNumbers": true,
   "eqNumInitial": 1,
   "hotkeys": {
    "equation": "Ctrl-E",
    "itemize": "Ctrl-I"
   },
   "labels_anchors": false,
   "latex_user_defs": false,
   "report_style_numbering": false,
   "user_envs_cfg": false
  },
  "toc": {
   "base_numbering": 1,
   "nav_menu": {},
   "number_sections": true,
   "sideBar": true,
   "skip_h1_title": false,
   "title_cell": "Table of Contents",
   "title_sidebar": "Contents",
   "toc_cell": false,
   "toc_position": {},
   "toc_section_display": true,
   "toc_window_display": false
  }
 },
 "nbformat": 4,
 "nbformat_minor": 4
}
