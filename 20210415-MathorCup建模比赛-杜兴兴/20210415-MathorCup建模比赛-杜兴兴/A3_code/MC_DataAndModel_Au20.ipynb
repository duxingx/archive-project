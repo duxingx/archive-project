{
 "cells": [
  {
   "cell_type": "code",
   "execution_count": 1,
   "metadata": {
    "ExecuteTime": {
     "end_time": "2021-04-18T08:07:58.385294Z",
     "start_time": "2021-04-18T08:07:55.407151Z"
    }
   },
   "outputs": [],
   "source": [
    "import numpy as np\n",
    "import pandas as pd\n",
    "import matplotlib.pyplot as plt\n",
    "import seaborn as sns\n",
    "from mpl_toolkits.mplot3d import Axes3D\n",
    "from scipy.spatial.distance import cdist\n",
    "import networkx as nx\n",
    "import warnings\n",
    "warnings.filterwarnings(\"ignore\")\n",
    "plt.rcParams['font.sans-serif'] = ['SimHei'] \n",
    "plt.rcParams['axes.unicode_minus'] = False  \n",
    "\n",
    "\n",
    "import os\n",
    "import re\n",
    "import math\n",
    "\n",
    "from sklearn.linear_model import LinearRegression,Ridge,Lasso\n",
    "from sklearn.neighbors import KNeighborsRegressor\n",
    "from sklearn.svm import SVR,LinearSVR\n",
    "from sklearn.ensemble import AdaBoostRegressor,ExtraTreesRegressor,RandomForestRegressor,GradientBoostingRegressor\n",
    "from xgboost import XGBRegressor\n",
    "\n",
    "\n",
    "from sklearn.model_selection import train_test_split,cross_val_score,cross_val_predict # 交叉验证所需的函数\n",
    "from sklearn.model_selection import KFold,LeaveOneOut,LeavePOut,ShuffleSplit # 交叉验证所需的子集划分方法\n",
    "from sklearn.model_selection import StratifiedKFold,StratifiedShuffleSplit # 分层分割\n",
    "from sklearn.model_selection import GroupKFold,LeaveOneGroupOut,LeavePGroupsOut,GroupShuffleSplit # 分组分割\n",
    "\n",
    "\n",
    "\n",
    "from sklearn.model_selection import train_test_split,GridSearchCV\n",
    "from sklearn import preprocessing\n",
    "from sklearn.metrics import accuracy_score,mean_squared_error,mean_absolute_error\n",
    "from sklearn.decomposition import PCA\n",
    "from sklearn.preprocessing import PolynomialFeatures"
   ]
  },
  {
   "cell_type": "code",
   "execution_count": 7,
   "metadata": {
    "ExecuteTime": {
     "end_time": "2021-04-18T08:46:31.429155Z",
     "start_time": "2021-04-18T08:46:31.421655Z"
    },
    "code_folding": []
   },
   "outputs": [],
   "source": [
    "path = \"../A2_data/A1_rawdata/Au20_OPT_1000/\"\n",
    "# path = \"../A2_data/A1_rawdata/B45-_OPT_3751/\"\n",
    "\n",
    "# 读取文件名\n",
    "def get_allfile(path):\n",
    "    filelist = []\n",
    "    get_dir = os.listdir(path)\n",
    "    for i in get_dir:\n",
    "        filelist.append(os.path.join(path,i))\n",
    "    \n",
    "    return filelist\n",
    "\n",
    "# 测试\n",
    "filelist = get_allfile(path)\n",
    "# filelist"
   ]
  },
  {
   "cell_type": "code",
   "execution_count": 8,
   "metadata": {
    "ExecuteTime": {
     "end_time": "2021-04-18T08:46:32.214928Z",
     "start_time": "2021-04-18T08:46:32.196370Z"
    },
    "code_folding": []
   },
   "outputs": [
    {
     "data": {
      "text/plain": [
       "array(-1549.729217)"
      ]
     },
     "execution_count": 8,
     "metadata": {},
     "output_type": "execute_result"
    }
   ],
   "source": [
    "{'NodeCoor': [(0, 0), (1, -14), (7, -), (2, -15), (22, 31), (-23, 18), (10, -24), (-46, 10), (-11, 4), (-19, -27), (25, 11)], 'TravelCoor': [[(-14, -11), (-10, -4), (0, -21), (8, -6), (-5, -5)], [(15, -12), (-8, -10), (5, -22), (15, -10)], [(10, -21), (4, -20), (-9, -18), (-7, -20), (0, -13)], [(19, 37), (18, 23), (28, 26), (17, 31)], [(-17, 10), (-18, 25), (-4, 7), (-31, 5)], [(28, -31), (-4, -35), (20, -20)], [(-26, 7), (-40, 23), (-35, -8), (-35, 26)], [(-22, 10), (-1, -4), (2, -3)], [(-15, -37), (-5, -29), (-25, -20), (-29, -31)], [(16, 5), (20, -6), (16, 4)]], 'cus_all_points': [[(1, -14), (-14, -11), (-10, -4), (0, -21), (8, -6), (-5, -5), (1, -14)], [(7, -15), (15, -12), (-8, -10), (5, -22), (15, -10), (7, -15)], [(2, -15), (10, -21), (4, -20), (-9, -18), (-7, -20), (0, -13), (2, -15)], [(22, 31), (19, 37), (18, 23), (28, 26), (17, 31), (22, 31)], [(-23, 18), (-17, 10), (-18, 25), (-4, 7), (-31, 5), (-23, 18)], [(10, -24), (28, -31), (-4, -35), (20, -20), (10, -24)], [(-46, 10), (-26, 7), (-40, 23), (-35, -8), (-35, 26), (-46, 10)], [(-11, 4), (-22, 10), (-1, -4), (2, -3), (-11, 4)], [(-19, -27), (-15, -37), (-5, -29), (-25, -20), (-29, -31), (-19, -27)], [(25, 11), (16, 5), (20, -6), (16, 4), (25, 11)]], 'Timewindow': [[(0, 12), (1.72, 2.5), (2.7, 3.7), (4.19, 5.0), (5.42, 6.3), (6.63, 7.2)], [(0, 12), (1.78, 2.6), (3.18, 3.9), (4.34, 5.3), (5.69, 6.4)], [(0, 12), (1.63, 2.4), (2.55, 3.3), (3.63, 4.6), (4.67, 5.4), (5.65, 6.4)], [(0, 12), (1.67, 2.3), (2.65, 3.3), (3.56, 4.2), (4.5, 5.2)], [(0, 12), (2.14, 3.0), (3.38, 4.3), (4.87, 5.6), (6.28, 7.3)], [(0, 12), (1.81, 2.7), (3.51, 4.0), (4.71, 5.3)], [(0, 12), (2.15, 3.1), (3.63, 4.3), (5.09, 5.7), (6.55, 7.3)], [(0, 12), (1.69, 2.7), (3.33, 4.1), (4.18, 5.0)], [(0, 12), (1.33, 1.9), (2.22, 3.2), (3.75, 4.6), (4.89, 5.8)], [(0, 12), (2.08, 2.8), (3.09, 3.6), (3.87, 4.6)]], 'lowerTime': [[0, 1.72, 2.7, 4.19, 5.42, 6.63], [0, 1.78, 3.18, 4.34, 5.69], [0, 1.63, 2.55, 3.63, 4.67, 5.65], [0, 1.67, 2.65, 3.56, 4.5], [0, 2.14, 3.38, 4.87, 6.28], [0, 1.81, 3.51, 4.71], [0, 2.15, 3.63, 5.09, 6.55], [0, 1.69, 3.33, 4.18], [0, 1.33, 2.22, 3.75, 4.89], [0, 2.08, 3.09, 3.87]], 'upperTime': [[12, 2.5, 3.7, 5.0, 6.3, 7.2], [12, 2.6, 3.9, 5.3, 6.4], [12, 2.4, 3.3, 4.6, 5.4, 6.4], [12, 2.3, 3.3, 4.2, 5.2], [12, 3.0, 4.3, 5.6, 7.3], [12, 2.7, 4.0, 5.3], [12, 3.1, 4.3, 5.7, 7.3], [12, 2.7, 4.1, 5.0], [12, 1.9, 3.2, 4.6, 5.8], [12, 2.8, 3.6, 4.6]], 'HTimewindow': [(0, 12), (0, 12), (0, 12), (0, 12), (0, 12), (0, 12), (0, 12), (0, 12), (0, 12), (0, 12), (0, 12)], 'HlowerTime': [0, 0, 0, 0, 0, 0, 0, 0, 0, 0, 0], 'HupperTime': [12, 12, 12, 12, 12, 12, 12, 12, 12, 12, 12], 'Demand': [0, 16, 16, 12, 12, 14, 19, 13, 18, 17, 15], 'MaxLoad': 120, 'ServiceTime': 0, 'Velocity': 40, '客户出行位置数:': 201, '各点与仓库之间的平均距离:': 27.73, '平均出行时间:': 6.08}{'A客户出行位置数': 59, 'A各点与仓库之间的平均距离': 25.01, 'A客户平均出行时间': 6.05, '最佳运输计划为': [[0, 9, 3, 1, 2, 6, 0], [0, 4, 10, 0], [0, 7, 8, 5, 0]], '最佳访问点为': [[-1, 2, 4, 3, 3, 0, -1], [-1, 2, 0, -1], [-1, 1, 1, 1, -1]], '车辆数': 3, '配送总时间': 12.330000000000002, '配送总距离': (209.26,), '客户平均配送距离K2': 20.93, '配送比': 1.19, 'CPU：': 1197}{'NodeCoor': [(0, 0), (1, -14), (7, -15), (2, -15), (22, 31), (-23, 18), (10, -24), (-46, 10), (-11, 4), (-19, -27), (25, 11)], 'TravelCoor': [[(-14, -11), (-10, -4), (0, -21), (8, -6), (-5, -5)], [(15, -12), (-8, -10), (5, -22), (15, -10)], [(10, -21), (4, -20), (-9, -18), (-7, -20), (0, -13)], [(19, 37), (18, 23), (28, 26), (17, 31)], [(-17, 10), (-18, 25), (-4, 7), (-31, 5)], [(28, -31), (-4, -35), (20, -20)], [(-26, 7), (-40, 23), (-35, -8), (-35, 26)], [(-22, 10), (-1, -4), (2, -3)], [(-15, -37), (-5, -29), (-25, -20), (-29, -31)], [(16, 5), (20, -6), (16, 4)]], 'cus_all_points': [[(1, -14), (-14, -11), (-10, -4), (0, -21), (8, -6), (-5, -5), (1, -14)], [(7, -15), (15, -12), (-8, -10), (5, -22), (15, -10), (7, -15)], [(2, -15), (10, -21), (4, -20), (-9, -18), (-7, -20), (0, -13), (2, -15)], [(22, 31), (19, 37), (18, 23), (28, 26), (17, 31), (22, 31)], [(-23, 18), (-17, 10), (-18, 25), (-4, 7), (-31, 5), (-23, 18)], [(10, -24), (28, -31), (-4, -35), (20, -20), (10, -24)], [(-46, 10), (-26, 7), (-40, 23), (-35, -8), (-35, 26), (-46, 10)], [(-11, 4), (-22, 10), (-1, -4), (2, -3), (-11, 4)], [(-19, -27), (-15, -37), (-5, -29), (-25, -20), (-29, -31), (-19, -27)], [(25, 11), (16, 5), (20, -6), (16, 4), (25, 11)]], 'Timewindow': [[(0, 12), (1.72, 2.5), (2.7, 3.7), (4.19, 5.0), (5.42, 6.3), (6.63, 7.2)], [(0, 12), (1.78, 2.6), (3.18, 3.9), (4.34, 5.3), (5.69, 6.4)], [(0, 12), (1.63, 2.4), (2.55, 3.3), (3.63, 4.6), (4.67, 5.4), (5.65, 6.4)], [(0, 12), (1.67, 2.3), (2.65, 3.3), (3.56, 4.2), (4.5, 5.2)], [(0, 12), (2.14, 3.0), (3.38, 4.3), (4.87, 5.6), (6.28, 7.3)], [(0, 12), (1.81, 2.7), (3.51, 4.0), (4.71, 5.3)], [(0, 12), (2.15, 3.1), (3.63, 4.3), (5.09, 5.7), (6.55, 7.3)], [(0, 12), (1.69, 2.7), (3.33, 4.1), (4.18, 5.0)], [(0, 12), (1.33, 1.9), (2.22, 3.2), (3.75, 4.6), (4.89, 5.8)], [(0, 12), (2.08, 2.8), (3.09, 3.6), (3.87, 4.6)]], 'lowerTime': [[0, 1.72, 2.7, 4.19, 5.42, 6.63], [0, 1.78, 3.18, 4.34, 5.69], [0, 1.63, 2.55, 3.63, 4.67, 5.65], [0, 1.67, 2.65, 3.56, 4.5], [0, 2.14, 3.38, 4.87, 6.28], [0, 1.81, 3.51, 4.71], [0, 2.15, 3.63, 5.09, 6.55], [0, 1.69, 3.33, 4.18], [0, 1.33, 2.22, 3.75, 4.89], [0, 2.08, 3.09, 3.87]], 'upperTime': [[12, 2.5, 3.7, 5.0, 6.3, 7.2], [12, 2.6, 3.9, 5.3, 6.4], [12, 2.4, 3.3, 4.6, 5.4, 6.4], [12, 2.3, 3.3, 4.2, 5.2], [12, 3.0, 4.3, 5.6, 7.3], [12, 2.7, 4.0, 5.3], [12, 3.1, 4.3, 5.7, 7.3], [12, 2.7, 4.1, 5.0], [12, 1.9, 3.2, 4.6, 5.8], [12, 2.8, 3.6, 4.6]], 'HTimewindow': [(0, 12), (0, 12), (0, 12), (0, 12), (0, 12), (0, 12), (0, 12), (0, 12), (0, 12), (0, 12), (0, 12)], 'HlowerTime': [0, 0, 0, 0, 0, 0, 0, 0, 0, 0, 0], 'HupperTime': [12, 12, 12, 12, 12, 12, 12, 12, 12, 12, 12], 'Demand': [0, 16, 16, 12, 12, 14, 19, 13, 18, 17, 15], 'MaxLoad': 120, 'ServiceTime': 0, 'Velocity': 40, '客户出行位置数:': 201, '各点与仓库之间的平均距离:': 27.73, '平均出行时间:': 6.08}{'A客户出行位置数': 59, 'A各点与仓库之间的平均距离': 25.01, 'A客户平均出行时间': 6.05, '最佳运输计划为': [[0, 9, 3, 1, 2, 6, 0], [0, 4, 10, 0], [0, 7, 8, 5, 0]], '最佳访问点为': [[-1, 2, 4, 3, 3, 0, -1], [-1, 2, 0, -1], [-1, 1, 1, 1, -1]], '车辆数': 3, '配送总时间': 12.330000000000002, '配送总距离': (209.26,), '客户平均配送距离K2': 20.93, '配送比': 1.19, 'CPU：': 1197}\n",
    "# 读取团簇数据\n",
    "def read_one_xyz(filename):\n",
    "    xyz = []\n",
    "    with open(filename, 'r') as f: # 读取每一行\n",
    "        flines = f.readlines()\n",
    "        for fl in range(len(flines)):\n",
    "            if fl == 0: # 第一行为原子个数\n",
    "                num = flines[fl]\n",
    "            elif fl == 1: # 第二行为能量\n",
    "                power = np.array(re.findall(r\"[-]?\\d+\\.?\\d*\",str(flines[fl]))[-1]).astype(float)\n",
    "            else: # 其余行为坐标点\n",
    "                xyz.append(flines[fl].split())\n",
    "                \n",
    "    axis_xyz = []  \n",
    "    for i in xyz[1:]: # 划分坐标点为 x,y,z\n",
    "        axis_xyz.append(i[1:4])\n",
    "    axis_xyz_num = np.array(axis_xyz).astype(float)\n",
    "    \n",
    "    return axis_xyz_num,power\n",
    "\n",
    "# 测试\n",
    "xyz,power = read_one_xyz(\"../A2_data/A1_rawdata/Au20_OPT_1000/2.xyz\")\n",
    "# xyz,power = read_one_xyz(\"../A2_data/A1_rawdata/B45-_OPT_3751/2.xyz\")\n",
    "power\n",
    "# xyz"
   ]
  },
  {
   "cell_type": "code",
   "execution_count": 9,
   "metadata": {
    "ExecuteTime": {
     "end_time": "2021-04-18T08:46:32.983983Z",
     "start_time": "2021-04-18T08:46:32.949009Z"
    },
    "code_folding": [
     2,
     12,
     36,
     45,
     61,
     70,
     98
    ]
   },
   "outputs": [],
   "source": [
    "# 生成衍生变量\n",
    "\n",
    "def distmatrix(xyz_matrix):\n",
    "    \"\"\"计算原子距离矩阵\"\"\"\n",
    "    dist=cdist(xyz_matrix,xyz_matrix,metric='euclidean')\n",
    "    return dist\n",
    "dist = distmatrix(xyz) # 测试\n",
    "\n",
    "\n",
    "def dict_index(distmatrix):\n",
    "    \"\"\"\n",
    "    距离矩阵相关指标：最大距离，最小距离，平均距离，平均距离，中位数距离\n",
    "    \"\"\"\n",
    "    temp = []\n",
    "    \n",
    "    for i in range(distmatrix.shape[0]): # 遍历距离矩阵所有行\n",
    "        \n",
    "        for j in range(distmatrix.shape[1]): # 遍历距离矩阵所有列\n",
    "            if j >= i: # 不考虑原子与自身的距离\n",
    "                continue\n",
    "            temp.append(distmatrix[i,j]) # 将每个距离添加到列表，便于计算统计指标\n",
    "    mindist = min(temp)\n",
    "    maxdist = max(temp)\n",
    "    meandist = np.mean(temp)\n",
    "    meddist = np.median(temp)\n",
    "    sumdist = sum(temp)\n",
    "    return mindist,maxdist,meandist,meddist,sumdist\n",
    "mindist,maxdist,meandist,meddist,sumdist = dict_index(dist) # 测试\n",
    "\n",
    "\n",
    "def close_matrix(dist,index):\n",
    "    \"\"\"\n",
    "    根据距离矩阵得到邻接矩阵\n",
    "    \"\"\"\n",
    "    matrix = np.where(dist>index,1,0)    # 根据距离与index的相对来判断是否原子之间有边\n",
    "    return matrix\n",
    "\n",
    "\n",
    "def netgraph_index(matrix):\n",
    "    \"\"\"\n",
    "    网络图结构指标分析\n",
    "    \"\"\"\n",
    "    G = nx.Graph(matrix)  # 根据邻接矩阵构建网络结构\n",
    "    \n",
    "    Gnum =  G.number_of_edges()   # 网络边的数量\n",
    "    mean_cluster = nx.average_clustering(G) # 平均聚类系数\n",
    "    netrans = nx.transitivity(G) # 网络传递性\n",
    "    mean_degrcenter = np.average(list(nx.degree_centrality(G).values())) # 平均度中心性\n",
    "    mean_closcenter = np.average(list(nx.closeness_centrality(G).values())) # 平均接近中心性\n",
    "    mean_betwcenter = np.average(list(nx.betweenness_centrality(G).values())) # 平均中介中心性\n",
    "    \n",
    "    return Gnum,mean_cluster,netrans,mean_degrcenter,mean_closcenter,mean_betwcenter\n",
    "\n",
    "\n",
    "def f_c(r_ij,r_cut=6):\n",
    "    \"\"\"分子性质衍生特征的切断函数f_c\"\"\"\n",
    "    if r_cut > r_ij:  # r_ij:原子之间的距离(or距离矩阵？)\n",
    "        f = (np.cos(np.pi*r_ij/r_cut)+1)/2\n",
    "    else:\n",
    "        f = 0\n",
    "    return f\n",
    "\n",
    "\n",
    "def G_func(xyz,yita=1,r_s=3):\n",
    "    \"\"\"G1,G2函数（改写为了所有原子的和、均值）\"\"\"\n",
    "    g1_temp,g2_temp = [],[]\n",
    "    for j in range(xyz.shape[0]):\n",
    "        f_c_ls1 = []\n",
    "        f_c_ls2 = []\n",
    "        for k in range(xyz.shape[0]):\n",
    "            if k == j:\n",
    "                continue\n",
    "            dist_vec = np.linalg.norm(np.asarray(xyz[j]) - np.asarray(xyz[k]))\n",
    "            exp_dist_vec = np.exp(-yita * (dist_vec - r_s)**2)\n",
    "            f_c_ls1.append(f_c(dist_vec))\n",
    "            f_c_ls2.append(exp_dist_vec * f_c(dist_vec))\n",
    "        g1_temp.append(sum(f_c_ls1))  # 文献中给出的G1,每个团簇有n个G1\n",
    "        g2_temp.append(sum(f_c_ls2))  # 文献中给出的G2,每个团簇有n个G2\n",
    "        \n",
    "    g1_sum = np.sum(g1_temp)  # 对每个团簇的G1求和\n",
    "    g2_sum = np.sum(g2_temp)  # 对每个团簇的G2求和\n",
    "    g1 = np.average(g1_temp)  # 对每个团簇的G1求平均\n",
    "    g2 = np.average(g2_temp)  # 对每个团簇的G2求平均\n",
    "    return g1_sum,g2_sum,g1,g2,g1_temp,g2_temp\n",
    "g1_sum,g2_sum,g1,g2,g1_temp,g2_temp = G_func(xyz) # 测试\n",
    "\n",
    "\n",
    "def get_coulombMatrix(mole,zi,eigpercent=1):\n",
    "    \"\"\"\n",
    "    计算库伦矩阵特征值,每个团簇的库伦矩阵的特征值大小排序\n",
    "    \"\"\"\n",
    "    cij = np.zeros((mole.shape[0],mole.shape[0]))  # 初始化库伦矩阵\n",
    "    for i in range(mole.shape[0]): # 遍历所有原子\n",
    "        for j in range(mole.shape[0]): # 计算库伦矩阵\n",
    "            if i == j:\n",
    "                cij[i][j] = 0.5 * zi ** 2.4\n",
    "            else:\n",
    "                cij[i][j] = zi * zi / (np.linalg.norm((mole[i] - mole[j]),ord=1))\n",
    "                \n",
    "    eig,_ = np.linalg.eig((cij + cij.T)/2) # 计算特征值，特征向量(这里为了尽可能消除特征值为复数的写法)\n",
    "    eig_sorted = np.sort(eig)[::-1]\n",
    "    eigvalue = eig_sorted[:int(eig.shape[0]* eigpercent)]  # 选取最大的几个特征值（按照百分比计算，默认全部）\n",
    "    return eigvalue\n",
    "eigvalue = get_coulombMatrix(xyz,79,1) # 测试\n"
   ]
  },
  {
   "cell_type": "code",
   "execution_count": 22,
   "metadata": {
    "ExecuteTime": {
     "end_time": "2021-04-18T08:53:59.059294Z",
     "start_time": "2021-04-18T08:53:49.885127Z"
    },
    "code_folding": [],
    "scrolled": false
   },
   "outputs": [],
   "source": [
    "# 生成分析数据集(耗时较旧)\n",
    "def output_dataframe(path,zi,eigpercent=1): \n",
    "    \"\"\"\n",
    "    path:文件夹路径\n",
    "    zi:原子电荷数\n",
    "    eigpercent:库伦矩阵特征值个数比例\n",
    "    \"\"\"\n",
    "    filelist = get_allfile(path)\n",
    "    X = []   # 特征向量\n",
    "    Y = []   #预测目标(power)\n",
    "    for i in range(len(filelist)):\n",
    "        sample = []\n",
    "        file,power = read_one_xyz(filelist[i])  # 读取数据\n",
    "        \n",
    "         # 将库伦矩阵特征值添加到特征向量中\n",
    "        eigvalue = get_coulombMatrix(file,zi,eigpercent)  # 计算库伦矩阵\n",
    "        if isinstance(eigvalue[0],complex):   # 删除复数特征值样本\n",
    "            continue\n",
    "        sample = [x for x in eigvalue] \n",
    "        \n",
    "        # 将原子间的距离指标添加到特征向量中\n",
    "        dist = distmatrix(file)  # 距离矩阵\n",
    "        mindist,maxdist,meandist,meddist,sumdist = dict_index(dist)  # 距离指标\n",
    "        sample = sample + [mindist,maxdist,meandist,meddist,sumdist]\n",
    "        \n",
    "        # 将团簇网络结构指标添加到特征向量中\n",
    "        closematrix = np.where(dist>meandist,1,0)   # 计算邻接矩阵\n",
    "        Gnum,mean_cluster,netrans,mean_degrcenter,mean_closcenter,mean_betwcenter = netgraph_index(closematrix) # 网络结构指标\n",
    "        sample = sample + [Gnum,mean_cluster,netrans,mean_degrcenter,mean_closcenter,mean_betwcenter]     \n",
    "        \n",
    "        # 将G函数指标添加到特征向量中\n",
    "        g1_sum,g2_sum,g1,g2,g1_temp,g2_temp = G_func(file)  # 计算G1，G2\n",
    "        sample = sample + [g1_sum,g2_sum,g1,g2] + g1_temp + g2_temp\n",
    "        \n",
    "        X.append(sample)\n",
    "        \n",
    "        # 将预测能量添加到目标变量中\n",
    "        Y.append(power)\n",
    "    return X,Y\n",
    "\n",
    "X,Y = output_dataframe(path,79,1)"
   ]
  },
  {
   "cell_type": "code",
   "execution_count": 24,
   "metadata": {
    "ExecuteTime": {
     "end_time": "2021-04-18T08:54:35.764924Z",
     "start_time": "2021-04-18T08:54:35.748840Z"
    },
    "scrolled": false
   },
   "outputs": [
    {
     "data": {
      "text/plain": [
       "(998, 72)"
      ]
     },
     "execution_count": 24,
     "metadata": {},
     "output_type": "execute_result"
    }
   ],
   "source": [
    "df_X = pd.DataFrame(X).add_prefix(\"X\")\n",
    "df_Y = pd.DataFrame(Y,columns=[\"Y\"])\n",
    "data = pd.concat([df_X,df_Y],axis=1)\n",
    "\n",
    "\n",
    "# data.to_csv(\"../A2_data/A2_output/Au20_alldata.csv\",index=False,header=True)\n",
    "# data.to_csv(\"../A2_data/A2_output/B45_alldata.csv\",index=False,header=True)\n",
    "df_X.shape\n",
    "# df_Y.shape"
   ]
  },
  {
   "cell_type": "code",
   "execution_count": 25,
   "metadata": {
    "ExecuteTime": {
     "end_time": "2021-04-18T08:54:36.638805Z",
     "start_time": "2021-04-18T08:54:36.523205Z"
    },
    "scrolled": true
   },
   "outputs": [
    {
     "data": {
      "text/html": [
       "<div>\n",
       "<style scoped>\n",
       "    .dataframe tbody tr th:only-of-type {\n",
       "        vertical-align: middle;\n",
       "    }\n",
       "\n",
       "    .dataframe tbody tr th {\n",
       "        vertical-align: top;\n",
       "    }\n",
       "\n",
       "    .dataframe thead th {\n",
       "        text-align: right;\n",
       "    }\n",
       "</style>\n",
       "<table border=\"1\" class=\"dataframe\">\n",
       "  <thead>\n",
       "    <tr style=\"text-align: right;\">\n",
       "      <th></th>\n",
       "      <th>X0</th>\n",
       "      <th>X1</th>\n",
       "      <th>X2</th>\n",
       "      <th>X3</th>\n",
       "      <th>X4</th>\n",
       "      <th>X5</th>\n",
       "      <th>X6</th>\n",
       "      <th>X7</th>\n",
       "      <th>X8</th>\n",
       "      <th>X9</th>\n",
       "      <th>...</th>\n",
       "      <th>X63</th>\n",
       "      <th>X64</th>\n",
       "      <th>X65</th>\n",
       "      <th>X66</th>\n",
       "      <th>X67</th>\n",
       "      <th>X68</th>\n",
       "      <th>X69</th>\n",
       "      <th>X70</th>\n",
       "      <th>X71</th>\n",
       "      <th>Y</th>\n",
       "    </tr>\n",
       "  </thead>\n",
       "  <tbody>\n",
       "    <tr>\n",
       "      <th>count</th>\n",
       "      <td>998.000000</td>\n",
       "      <td>998.000000</td>\n",
       "      <td>998.000000</td>\n",
       "      <td>998.000000</td>\n",
       "      <td>998.000000</td>\n",
       "      <td>998.000000</td>\n",
       "      <td>998.000000</td>\n",
       "      <td>998.000000</td>\n",
       "      <td>998.000000</td>\n",
       "      <td>998.000000</td>\n",
       "      <td>...</td>\n",
       "      <td>998.000000</td>\n",
       "      <td>998.000000</td>\n",
       "      <td>998.000000</td>\n",
       "      <td>998.000000</td>\n",
       "      <td>998.000000</td>\n",
       "      <td>998.000000</td>\n",
       "      <td>998.000000</td>\n",
       "      <td>998.000000</td>\n",
       "      <td>998.000000</td>\n",
       "      <td>998.000000</td>\n",
       "    </tr>\n",
       "    <tr>\n",
       "      <th>mean</th>\n",
       "      <td>37003.799272</td>\n",
       "      <td>21338.335853</td>\n",
       "      <td>20403.617090</td>\n",
       "      <td>19398.576966</td>\n",
       "      <td>18475.162186</td>\n",
       "      <td>17772.593194</td>\n",
       "      <td>17219.817345</td>\n",
       "      <td>16921.162551</td>\n",
       "      <td>16665.813232</td>\n",
       "      <td>16418.072982</td>\n",
       "      <td>...</td>\n",
       "      <td>2.468422</td>\n",
       "      <td>2.423316</td>\n",
       "      <td>2.425873</td>\n",
       "      <td>2.392216</td>\n",
       "      <td>2.396222</td>\n",
       "      <td>2.355988</td>\n",
       "      <td>2.355539</td>\n",
       "      <td>2.354708</td>\n",
       "      <td>2.375383</td>\n",
       "      <td>-1551.249213</td>\n",
       "    </tr>\n",
       "    <tr>\n",
       "      <th>std</th>\n",
       "      <td>1176.546028</td>\n",
       "      <td>826.080611</td>\n",
       "      <td>626.788803</td>\n",
       "      <td>492.832029</td>\n",
       "      <td>473.140187</td>\n",
       "      <td>340.687797</td>\n",
       "      <td>270.737713</td>\n",
       "      <td>240.236978</td>\n",
       "      <td>207.181598</td>\n",
       "      <td>189.374583</td>\n",
       "      <td>...</td>\n",
       "      <td>0.998806</td>\n",
       "      <td>0.904686</td>\n",
       "      <td>0.915706</td>\n",
       "      <td>0.872494</td>\n",
       "      <td>0.862204</td>\n",
       "      <td>0.829341</td>\n",
       "      <td>0.824070</td>\n",
       "      <td>0.816779</td>\n",
       "      <td>0.835108</td>\n",
       "      <td>2.876918</td>\n",
       "    </tr>\n",
       "    <tr>\n",
       "      <th>min</th>\n",
       "      <td>28748.080854</td>\n",
       "      <td>19416.769617</td>\n",
       "      <td>18486.172589</td>\n",
       "      <td>18182.925914</td>\n",
       "      <td>17177.438706</td>\n",
       "      <td>16760.523895</td>\n",
       "      <td>16468.192840</td>\n",
       "      <td>16097.516442</td>\n",
       "      <td>16058.184620</td>\n",
       "      <td>15930.593017</td>\n",
       "      <td>...</td>\n",
       "      <td>0.508247</td>\n",
       "      <td>0.505737</td>\n",
       "      <td>0.505737</td>\n",
       "      <td>0.505737</td>\n",
       "      <td>0.505737</td>\n",
       "      <td>0.505737</td>\n",
       "      <td>0.505737</td>\n",
       "      <td>0.505737</td>\n",
       "      <td>0.505737</td>\n",
       "      <td>-1557.209460</td>\n",
       "    </tr>\n",
       "    <tr>\n",
       "      <th>25%</th>\n",
       "      <td>36415.851422</td>\n",
       "      <td>20756.105335</td>\n",
       "      <td>19948.626821</td>\n",
       "      <td>19048.394044</td>\n",
       "      <td>18147.091902</td>\n",
       "      <td>17535.545277</td>\n",
       "      <td>17039.713868</td>\n",
       "      <td>16764.470794</td>\n",
       "      <td>16528.703855</td>\n",
       "      <td>16291.413958</td>\n",
       "      <td>...</td>\n",
       "      <td>1.699719</td>\n",
       "      <td>1.724965</td>\n",
       "      <td>1.678371</td>\n",
       "      <td>1.701272</td>\n",
       "      <td>1.729247</td>\n",
       "      <td>1.736558</td>\n",
       "      <td>1.746388</td>\n",
       "      <td>1.740181</td>\n",
       "      <td>1.753679</td>\n",
       "      <td>-1553.181022</td>\n",
       "    </tr>\n",
       "    <tr>\n",
       "      <th>50%</th>\n",
       "      <td>37145.819464</td>\n",
       "      <td>21248.727345</td>\n",
       "      <td>20350.056965</td>\n",
       "      <td>19374.472787</td>\n",
       "      <td>18431.483928</td>\n",
       "      <td>17751.736532</td>\n",
       "      <td>17203.980176</td>\n",
       "      <td>16912.228181</td>\n",
       "      <td>16655.488671</td>\n",
       "      <td>16415.639242</td>\n",
       "      <td>...</td>\n",
       "      <td>2.348991</td>\n",
       "      <td>2.374409</td>\n",
       "      <td>2.395537</td>\n",
       "      <td>2.361434</td>\n",
       "      <td>2.347855</td>\n",
       "      <td>2.331711</td>\n",
       "      <td>2.350716</td>\n",
       "      <td>2.336216</td>\n",
       "      <td>2.366741</td>\n",
       "      <td>-1551.656489</td>\n",
       "    </tr>\n",
       "    <tr>\n",
       "      <th>75%</th>\n",
       "      <td>37818.812970</td>\n",
       "      <td>21843.168966</td>\n",
       "      <td>20742.134938</td>\n",
       "      <td>19719.626952</td>\n",
       "      <td>18795.123681</td>\n",
       "      <td>17999.327970</td>\n",
       "      <td>17394.044131</td>\n",
       "      <td>17064.365066</td>\n",
       "      <td>16806.116037</td>\n",
       "      <td>16533.608346</td>\n",
       "      <td>...</td>\n",
       "      <td>3.107785</td>\n",
       "      <td>3.003151</td>\n",
       "      <td>2.997191</td>\n",
       "      <td>2.998197</td>\n",
       "      <td>2.985643</td>\n",
       "      <td>2.914458</td>\n",
       "      <td>2.904098</td>\n",
       "      <td>2.896371</td>\n",
       "      <td>2.927018</td>\n",
       "      <td>-1549.891524</td>\n",
       "    </tr>\n",
       "    <tr>\n",
       "      <th>max</th>\n",
       "      <td>39520.935742</td>\n",
       "      <td>25103.528620</td>\n",
       "      <td>22359.425914</td>\n",
       "      <td>21117.338988</td>\n",
       "      <td>19934.920138</td>\n",
       "      <td>18898.170670</td>\n",
       "      <td>18260.755045</td>\n",
       "      <td>17901.994806</td>\n",
       "      <td>17511.275877</td>\n",
       "      <td>17253.028500</td>\n",
       "      <td>...</td>\n",
       "      <td>6.362645</td>\n",
       "      <td>5.429415</td>\n",
       "      <td>5.429415</td>\n",
       "      <td>5.845394</td>\n",
       "      <td>5.845394</td>\n",
       "      <td>5.047359</td>\n",
       "      <td>5.047359</td>\n",
       "      <td>4.858245</td>\n",
       "      <td>4.863356</td>\n",
       "      <td>-1530.908363</td>\n",
       "    </tr>\n",
       "  </tbody>\n",
       "</table>\n",
       "<p>8 rows × 73 columns</p>\n",
       "</div>"
      ],
      "text/plain": [
       "                 X0            X1            X2            X3            X4  \\\n",
       "count    998.000000    998.000000    998.000000    998.000000    998.000000   \n",
       "mean   37003.799272  21338.335853  20403.617090  19398.576966  18475.162186   \n",
       "std     1176.546028    826.080611    626.788803    492.832029    473.140187   \n",
       "min    28748.080854  19416.769617  18486.172589  18182.925914  17177.438706   \n",
       "25%    36415.851422  20756.105335  19948.626821  19048.394044  18147.091902   \n",
       "50%    37145.819464  21248.727345  20350.056965  19374.472787  18431.483928   \n",
       "75%    37818.812970  21843.168966  20742.134938  19719.626952  18795.123681   \n",
       "max    39520.935742  25103.528620  22359.425914  21117.338988  19934.920138   \n",
       "\n",
       "                 X5            X6            X7            X8            X9  \\\n",
       "count    998.000000    998.000000    998.000000    998.000000    998.000000   \n",
       "mean   17772.593194  17219.817345  16921.162551  16665.813232  16418.072982   \n",
       "std      340.687797    270.737713    240.236978    207.181598    189.374583   \n",
       "min    16760.523895  16468.192840  16097.516442  16058.184620  15930.593017   \n",
       "25%    17535.545277  17039.713868  16764.470794  16528.703855  16291.413958   \n",
       "50%    17751.736532  17203.980176  16912.228181  16655.488671  16415.639242   \n",
       "75%    17999.327970  17394.044131  17064.365066  16806.116037  16533.608346   \n",
       "max    18898.170670  18260.755045  17901.994806  17511.275877  17253.028500   \n",
       "\n",
       "       ...         X63         X64         X65         X66         X67  \\\n",
       "count  ...  998.000000  998.000000  998.000000  998.000000  998.000000   \n",
       "mean   ...    2.468422    2.423316    2.425873    2.392216    2.396222   \n",
       "std    ...    0.998806    0.904686    0.915706    0.872494    0.862204   \n",
       "min    ...    0.508247    0.505737    0.505737    0.505737    0.505737   \n",
       "25%    ...    1.699719    1.724965    1.678371    1.701272    1.729247   \n",
       "50%    ...    2.348991    2.374409    2.395537    2.361434    2.347855   \n",
       "75%    ...    3.107785    3.003151    2.997191    2.998197    2.985643   \n",
       "max    ...    6.362645    5.429415    5.429415    5.845394    5.845394   \n",
       "\n",
       "              X68         X69         X70         X71            Y  \n",
       "count  998.000000  998.000000  998.000000  998.000000   998.000000  \n",
       "mean     2.355988    2.355539    2.354708    2.375383 -1551.249213  \n",
       "std      0.829341    0.824070    0.816779    0.835108     2.876918  \n",
       "min      0.505737    0.505737    0.505737    0.505737 -1557.209460  \n",
       "25%      1.736558    1.746388    1.740181    1.753679 -1553.181022  \n",
       "50%      2.331711    2.350716    2.336216    2.366741 -1551.656489  \n",
       "75%      2.914458    2.904098    2.896371    2.927018 -1549.891524  \n",
       "max      5.047359    5.047359    4.858245    4.863356 -1530.908363  \n",
       "\n",
       "[8 rows x 73 columns]"
      ]
     },
     "execution_count": 25,
     "metadata": {},
     "output_type": "execute_result"
    }
   ],
   "source": [
    "data.describe()"
   ]
  },
  {
   "cell_type": "code",
   "execution_count": 32,
   "metadata": {
    "ExecuteTime": {
     "end_time": "2021-04-18T08:57:05.302832Z",
     "start_time": "2021-04-18T08:57:05.172949Z"
    },
    "scrolled": false
   },
   "outputs": [
    {
     "data": {
      "image/png": "[encoded data removed]",
      "text/plain": [
       "<Figure size 576x432 with 1 Axes>"
      ]
     },
     "metadata": {
      "needs_background": "light"
     },
     "output_type": "display_data"
    },
    {
     "data": {
      "text/plain": [
       "(997, 73)"
      ]
     },
     "execution_count": 32,
     "metadata": {},
     "output_type": "execute_result"
    }
   ],
   "source": [
    "# plt.hist(df_Y,bins=30)  # 查看目标变量分布情况\n",
    "# B40存在异常值： data[\"Y\"] > -92000\n",
    "\n",
    "plt.figure(figsize=(8,6))\n",
    "plt.hist(df_Y,bins=15,)  # 查看目标变量分布情况\n",
    "plt.xlabel = \"团簇能量值\"\n",
    "plt.ylabel = \"团簇频数\"\n",
    "plt.show()\n",
    "# Au20 存在离群值，-1530.908363\n",
    "\n",
    "# 删除离群点\n",
    "data_drop = data[(data[\"Y\"] < -1535)]\n",
    "# data_drop = data[(data[\"Y\"] < -92000)]\n",
    "data_drop.shape"
   ]
  },
  {
   "cell_type": "code",
   "execution_count": 33,
   "metadata": {
    "ExecuteTime": {
     "end_time": "2021-04-18T08:57:08.190540Z",
     "start_time": "2021-04-18T08:57:08.169805Z"
    }
   },
   "outputs": [
    {
     "data": {
      "text/plain": [
       "(997, 73)"
      ]
     },
     "execution_count": 33,
     "metadata": {},
     "output_type": "execute_result"
    }
   ],
   "source": [
    "# 数据标准化\n",
    "zscore = preprocessing.StandardScaler()\n",
    "data_scale = zscore.fit_transform(data_drop)\n",
    "data_scale.shape"
   ]
  },
  {
   "cell_type": "code",
   "execution_count": 34,
   "metadata": {
    "ExecuteTime": {
     "end_time": "2021-04-18T08:57:15.556910Z",
     "start_time": "2021-04-18T08:57:15.507970Z"
    },
    "scrolled": true
   },
   "outputs": [
    {
     "data": {
      "text/plain": [
       "(997, 19)"
      ]
     },
     "execution_count": 34,
     "metadata": {},
     "output_type": "execute_result"
    }
   ],
   "source": [
    "# 主成分降维\n",
    "pca = PCA(n_components=0.9)\n",
    "pca.fit(data_scale[:,0:data_scale.shape[1]-1])\n",
    "data_scale_pca = pca.transform(data_scale[:,0:data_scale.shape[1]-1])\n",
    "data_scale_pca.shape"
   ]
  },
  {
   "cell_type": "code",
   "execution_count": 35,
   "metadata": {
    "ExecuteTime": {
     "end_time": "2021-04-18T08:57:28.070521Z",
     "start_time": "2021-04-18T08:57:28.060467Z"
    },
    "scrolled": true
   },
   "outputs": [],
   "source": [
    "# 划分数据集（测试发现：为标准化，进行降维之后效果较差）\n",
    "\n",
    "# 下面是标准化，未进行主成分降维的数据\n",
    "# X_data = data_scale[:,range(data_scale.shape[1]-1)]\n",
    "# Y_data = data_scale[:,-1]\n",
    "\n",
    "# 下面是标准化，进行主成分降维的数据\n",
    "X_data = data_scale_pca[:,range(data_scale_pca.shape[1]-1)]\n",
    "Y_data = data_scale[:,-1]\n",
    "\n",
    "# 下面是不标准化，未进行主成分降维的数据\n",
    "# X_data = data_drop.iloc[:,range(data_drop.shape[1]-1)]\n",
    "# Y_data = data_drop.iloc[:,-1]\n",
    "\n",
    "X_train,X_test,y_train,y_test = train_test_split(X_data,Y_data,random_state=200,test_size=0.7)"
   ]
  },
  {
   "cell_type": "code",
   "execution_count": 38,
   "metadata": {
    "ExecuteTime": {
     "end_time": "2021-04-18T08:59:01.515440Z",
     "start_time": "2021-04-18T08:58:54.907865Z"
    },
    "scrolled": false
   },
   "outputs": [
    {
     "name": "stdout",
     "output_type": "stream",
     "text": [
      "Linear Regression : [0.60445493 0.6395098  0.62928715 0.58229806 0.64247684 0.60327292\n",
      " 0.59550326 0.64547693 0.65087941 0.6016625  0.61539482 0.64411327\n",
      " 0.62722457 0.63294893 0.60716646 0.6311755  0.59819278 0.56553569\n",
      " 0.60032313 0.63388772]\n",
      "Ridge Regression : [0.60445464 0.63959332 0.62925546 0.5825188  0.64246008 0.60330837\n",
      " 0.59557965 0.64546671 0.65089359 0.60173486 0.6154175  0.64410708\n",
      " 0.62715931 0.63295251 0.60730181 0.6312326  0.5981603  0.56555049\n",
      " 0.60034787 0.63385315]\n",
      "Linear SVM : [0.59672812 0.63460537 0.60755179 0.60302552 0.64521741 0.59559304\n",
      " 0.59330713 0.61614666 0.6452947  0.57200926 0.57409758 0.63242022\n",
      " 0.57988698 0.60043126 0.63240961 0.64049447 0.56666069 0.55130708\n",
      " 0.59062408 0.60316572]\n",
      "SVM : [0.68352099 0.75733163 0.72268088 0.74379434 0.73137885 0.71263551\n",
      " 0.70912201 0.72426894 0.74152499 0.68567201 0.71269682 0.71240122\n",
      " 0.72438193 0.69358764 0.71880124 0.73923317 0.66441115 0.67438535\n",
      " 0.69569553 0.71129688]\n",
      "XGBoost : [0.69238136 0.72776578 0.68317534 0.66761473 0.67476461 0.70723634\n",
      " 0.66444078 0.72473813 0.71639802 0.6282652  0.66641256 0.71592601\n",
      " 0.67501848 0.69556149 0.69174255 0.72766438 0.67574458 0.69024721\n",
      " 0.67243653 0.65755551]\n",
      "AdaBoost : [0.57645456 0.62042074 0.57973964 0.60448816 0.61546987 0.62883017\n",
      " 0.60321184 0.66708022 0.63017749 0.63590626 0.60599141 0.62877511\n",
      " 0.63154592 0.61348694 0.61697637 0.6244081  0.59245364 0.57849235\n",
      " 0.57822007 0.59338298]\n"
     ]
    }
   ],
   "source": [
    "def cross_valid_allmodel(model,X,Y,kfold=5):\n",
    "    \"\"\"\n",
    "    构建一个交叉验证方法\n",
    "    返回交叉验证的评分\n",
    "    \"\"\"\n",
    "    cv = ShuffleSplit(n_splits=20, test_size=.3, random_state=0) \n",
    "    scores_CV = cross_val_score(model, X_data, Y_data, cv=cv)  \n",
    "    return scores_CV\n",
    "\n",
    "models = {\n",
    "    \"Linear Regression\":LinearRegression(),\n",
    "    \"Ridge Regression\":Ridge(),\n",
    "    \"Linear SVM\":LinearSVR(),\n",
    "    \"SVM\":SVR(),\n",
    "#     \"Random Forest\":RandomForestRegressor(), # 计算时间较长\n",
    "    \"XGBoost\":XGBRegressor(),\n",
    "    \"AdaBoost\":AdaBoostRegressor()\n",
    "}\n",
    "\n",
    "scores_dict = {}\n",
    "for name,model in models.items():\n",
    "    scores_CV = cross_valid_allmodel(model,X_data, Y_data,kfold=10)\n",
    "    print(name,\":\",scores_CV)\n",
    "    scores_dict[name] = scores_CV  # 保存交叉验证评分结果\n",
    "df_scoresCV = pd.DataFrame(scores_dict)\n",
    "df_scoresCV.to_csv(\"../A2_data/A2_output/df_scoresCV.csv\",index=False,header=True)"
   ]
  },
  {
   "cell_type": "code",
   "execution_count": 47,
   "metadata": {
    "ExecuteTime": {
     "end_time": "2021-04-17T04:52:15.071232Z",
     "start_time": "2021-04-17T04:52:14.819850Z"
    }
   },
   "outputs": [
    {
     "data": {
      "image/png": "[encoded data removed]",
      "text/plain": [
       "<Figure size 432x288 with 1 Axes>"
      ]
     },
     "metadata": {},
     "output_type": "display_data"
    },
    {
     "data": {
      "text/plain": [
       "'\\n从不同模型交叉验证的箱线图可以发现，黑箱算法（SVM/XGBoost/AdaBoost）普遍比白箱算法（线性回归，岭回归）预测效果较好。\\n但白箱算法的预测评分的中位数也在0.91附近，在应用中完全可以接受。\\n故考虑模型可接受性，最终预测模型选择线性回归模型\\n'"
      ]
     },
     "execution_count": 47,
     "metadata": {},
     "output_type": "execute_result"
    }
   ],
   "source": [
    "score_plotdata = pd.DataFrame(scores_dict).melt()\n",
    "\n",
    "# 可视化绘制箱线图\n",
    "sns.set(style=\"whitegrid\", color_codes=True)\n",
    "sns.boxplot(x=\"variable\", y=\"value\",data=score_plotdata)\n",
    "sns.swarmplot(x=\"variable\", y=\"value\", data=score_plotdata, color=\".25\")\n",
    "plt.xticks(rotation=90)\n",
    "plt.xlabel(\"Machine Learning Models\")\n",
    "plt.ylabel(\"Score\")\n",
    "plt.show()\n",
    "\n",
    "\"\"\"\n",
    "从不同模型交叉验证的箱线图可以发现，黑箱算法（SVM/XGBoost/AdaBoost）普遍比白箱算法（线性回归，岭回归）预测效果较好。\n",
    "但白箱算法的预测评分的中位数也在0.91附近，在应用中完全可以接受。\n",
    "故考虑模型可接受性，最终预测模型选择线性回归模型\n",
    "\"\"\""
   ]
  },
  {
   "cell_type": "code",
   "execution_count": 39,
   "metadata": {
    "ExecuteTime": {
     "end_time": "2021-04-18T09:19:19.894022Z",
     "start_time": "2021-04-18T09:19:19.731575Z"
    }
   },
   "outputs": [
    {
     "name": "stdout",
     "output_type": "stream",
     "text": [
      "[ 0.15094 -0.04313  0.0516  -0.01173 -0.05661  0.06288  0.01489  0.02715\n",
      " -0.03928  0.0105   0.20411  0.2364  -0.00896 -0.01287  0.19813  0.14009\n",
      " -0.0457  -0.09953]\n",
      "Training set score:0.6574747605\n",
      "Test set score:0.6215628752\n",
      "Training set MSE:0.34\n",
      "Test set MSE:0.38\n"
     ]
    },
    {
     "data": {
      "image/png": "[encoded data removed]",
      "text/plain": [
       "<Figure size 432x288 with 1 Axes>"
      ]
     },
     "metadata": {
      "needs_background": "light"
     },
     "output_type": "display_data"
    },
    {
     "data": {
      "text/plain": [
       "'由于数据中存在异常值，所以可以发现残差图中有一处明显凸起。但整体上而言，无异常现象。'"
      ]
     },
     "execution_count": 39,
     "metadata": {},
     "output_type": "execute_result"
    }
   ],
   "source": [
    "\"\"\"线性回归\"\"\"\n",
    "lr = LinearRegression(fit_intercept=False,normalize=True,n_jobs=10).fit(X_train,y_train)\n",
    "lr_coef = np.round(lr.coef_,5)\n",
    "print(lr_coef)\n",
    "print('Training set score:{:.10f}'.format(lr.score(X_train,y_train)))\n",
    "print('Test set score:{:.10f}'.format(lr.score(X_test,y_test)))\n",
    "print(\"Training set MSE:{:.2f}\".format(mean_squared_error(y_train,lr.predict(X_train))))\n",
    "print(\"Test set MSE:{:.2f}\".format(mean_squared_error(y_test,lr.predict(X_test))))\n",
    "lr_predict = lr.predict(X_data)\n",
    "predict_data = pd.concat([pd.DataFrame(X_data),pd.DataFrame(Y_data,columns=[\"Y\"]),pd.DataFrame(lr_predict,columns=[\"predict\"])],axis=1)\n",
    "predict_data.to_csv(\"../A2_data/A2_output/Au20_predictdata.csv\",index=False,header=True)\n",
    "\n",
    "# 残差图\n",
    "plt.plot((lr.predict(X_data)-Y_data)**2)\n",
    "plt.show()\n",
    "\"由于数据中存在异常值，所以可以发现残差图中有一处明显凸起。但整体上而言，无异常现象。\""
   ]
  },
  {
   "cell_type": "code",
   "execution_count": null,
   "metadata": {},
   "outputs": [],
   "source": []
  }
 ],
 "metadata": {
  "kernelspec": {
   "display_name": "Python 3.10.0 64-bit",
   "language": "python",
   "name": "python3"
  },
  "language_info": {
   "codemirror_mode": {
    "name": "ipython",
    "version": 3
   },
   "file_extension": ".py",
   "mimetype": "text/x-python",
   "name": "python",
   "nbconvert_exporter": "python",
   "pygments_lexer": "ipython3",
   "version": "3.10.0"
  },
  "latex_envs": {
   "LaTeX_envs_menu_present": true,
   "autoclose": false,
   "autocomplete": true,
   "bibliofile": "biblio.bib",
   "cite_by": "apalike",
   "current_citInitial": 1,
   "eqLabelWithNumbers": true,
   "eqNumInitial": 1,
   "hotkeys": {
    "equation": "Ctrl-E",
    "itemize": "Ctrl-I"
   },
   "labels_anchors": false,
   "latex_user_defs": false,
   "report_style_numbering": false,
   "user_envs_cfg": false
  },
  "toc": {
   "base_numbering": 1,
   "nav_menu": {},
   "number_sections": true,
   "sideBar": true,
   "skip_h1_title": false,
   "title_cell": "Table of Contents",
   "title_sidebar": "Contents",
   "toc_cell": false,
   "toc_position": {},
   "toc_section_display": true,
   "toc_window_display": false
  },
  "vscode": {
   "interpreter": {
    "hash": "f870677c45d0b848f8838643ff0cdaa874bfee58424ec4200d57895ce60ace4f"
   }
  }
 },
 "nbformat": 4,
 "nbformat_minor": 4
}
